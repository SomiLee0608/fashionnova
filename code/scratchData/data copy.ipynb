{
 "cells": [
  {
   "cell_type": "markdown",
   "metadata": {},
   "source": [
    "从fashionnova 上获取数据\n",
    "先获得类别，然后再索引下去"
   ]
  },
  {
   "cell_type": "code",
   "execution_count": 1,
   "metadata": {},
   "outputs": [
    {
     "name": "stdout",
     "output_type": "stream",
     "text": [
      "The number of types in fashionnova is: 30\n"
     ]
    }
   ],
   "source": [
    "\n",
    "collection_url = 'https://www.fashionnova.com/collections.json'\n",
    "import requests\n",
    "\n",
    "headers = {\n",
    "    \"user-agent\": \"Mozilla/5.0 (Windows NT 10.0; WOW64) AppleWebKit/537.36 (KHTML, like Gecko) Chrome/100.0.4896.60 Safari/537.36\"\n",
    "}\n",
    "\n",
    "res = requests.get(url=collection_url, headers=headers)\n",
    "collections = res.json()['collections']\n",
    "\n",
    "print('The number of types in fashionnova is:',len(collections))\n",
    "collection_title = []\n",
    "for collection in collections:\n",
    "    collection_title.append(collection['title'])"
   ]
  },
  {
   "cell_type": "markdown",
   "metadata": {},
   "source": [
    "方法二："
   ]
  },
  {
   "cell_type": "code",
   "execution_count": 20,
   "metadata": {},
   "outputs": [],
   "source": [
    "\n",
    "\n",
    "class Get_page():\n",
    "    def __init__(self) -> None:\n",
    "        self.collections_url = 'https://www.fashionnova.com/collections.json'\n",
    "        self.headers = {\n",
    "    \"user-agent\": \"Mozilla/5.0 (Windows NT 10.0; WOW64) AppleWebKit/537.36 (KHTML, like Gecko) Chrome/100.0.4896.60 Safari/537.36\"\n",
    "                        }\n",
    "    def get_page(self, page):\n",
    "        params = {\n",
    "            'page':page,\n",
    "        }\n",
    "        response = requests.get(self.collections_url, headers = self.headers, params=params)\n",
    "        content = response.json()['collections']\n",
    "        return content"
   ]
  },
  {
   "cell_type": "code",
   "execution_count": 45,
   "metadata": {},
   "outputs": [],
   "source": [
    "fashionnova_page = Get_page()\n",
    "page = 1\n",
    "title = []\n",
    "contents = fashionnova_page.get_page(page)\n",
    "while contents:\n",
    "    contents = fashionnova_page.get_page(page)\n",
    "    for content in contents:\n",
    "        title.append(content['title'])\n",
    "    page+=1"
   ]
  },
  {
   "cell_type": "code",
   "execution_count": 55,
   "metadata": {},
   "outputs": [
    {
     "name": "stdout",
     "output_type": "stream",
     "text": [
      "The number of types in fashionnova is: 2125\n"
     ]
    }
   ],
   "source": [
    "print('The number of types in fashionnova is:',len(title))"
   ]
  },
  {
   "cell_type": "code",
   "execution_count": 57,
   "metadata": {},
   "outputs": [
    {
     "data": {
      "text/plain": [
       "['# 1 Best Selling Jeans',\n",
       " '$10 & Under Sale',\n",
       " '$10 Dresses',\n",
       " '$10 Nova Essentials',\n",
       " '$10 Plus Nova Essentials']"
      ]
     },
     "execution_count": 57,
     "metadata": {},
     "output_type": "execute_result"
    }
   ],
   "source": [
    "title[:5]"
   ]
  },
  {
   "cell_type": "code",
   "execution_count": 56,
   "metadata": {},
   "outputs": [
    {
     "data": {
      "text/plain": [
       "['Yellow', 'Yellow  Dresses', 'Yoga', 'Yumi Beauty', 'Yuni Beauty']"
      ]
     },
     "execution_count": 56,
     "metadata": {},
     "output_type": "execute_result"
    }
   ],
   "source": [
    "title[-5:]"
   ]
  },
  {
   "cell_type": "markdown",
   "metadata": {},
   "source": [
    "获取数据"
   ]
  },
  {
   "cell_type": "code",
   "execution_count": 2,
   "metadata": {},
   "outputs": [],
   "source": [
    "from lxml import etree\n",
    "class Get_url():\n",
    "    def __init__(self) -> None:\n",
    "        self.collections_url = 'https://www.fashionnova.com/collections'\n",
    "        self.headers = {\n",
    "    \"user-agent\": \"Mozilla/5.0 (Windows NT 10.0; WOW64) AppleWebKit/537.36 (KHTML, like Gecko) Chrome/100.0.4896.60 Safari/537.36\"\n",
    "                        }\n",
    "    def get_urls(self, page):\n",
    "        params = {\n",
    "            'page':page,\n",
    "        }\n",
    "        response = requests.get(self.collections_url, headers = self.headers, params=params)\n",
    "        response.encoding = 'utf-8'\n",
    "        html = etree.HTML(response.text)\n",
    "        return html"
   ]
  },
  {
   "cell_type": "code",
   "execution_count": 133,
   "metadata": {},
   "outputs": [],
   "source": [
    "urls = fashionnova_page.get_urls(2)"
   ]
  },
  {
   "cell_type": "code",
   "execution_count": 134,
   "metadata": {},
   "outputs": [
    {
     "data": {
      "text/plain": [
       "<Element html at 0x1bf46917540>"
      ]
     },
     "execution_count": 134,
     "metadata": {},
     "output_type": "execute_result"
    }
   ],
   "source": [
    "urls"
   ]
  },
  {
   "cell_type": "code",
   "execution_count": 28,
   "metadata": {},
   "outputs": [
    {
     "ename": "ConnectionError",
     "evalue": "HTTPSConnectionPool(host='www.fashionnova.com', port=443): Max retries exceeded with url: /collections?page=1 (Caused by NewConnectionError('<urllib3.connection.HTTPSConnection object at 0x000001F7598E08E0>: Failed to establish a new connection: [WinError 10060] 由于连接方在一段时间后没有正确答复或连接的主机没有反应，连接尝试失败。'))",
     "output_type": "error",
     "traceback": [
      "\u001b[1;31m---------------------------------------------------------------------------\u001b[0m",
      "\u001b[1;31mTimeoutError\u001b[0m                              Traceback (most recent call last)",
      "File \u001b[1;32md:\\APPs\\Anaconda\\envs\\Pytorch_env\\lib\\site-packages\\urllib3\\connection.py:174\u001b[0m, in \u001b[0;36mHTTPConnection._new_conn\u001b[1;34m(self)\u001b[0m\n\u001b[0;32m    173\u001b[0m \u001b[39mtry\u001b[39;00m:\n\u001b[1;32m--> 174\u001b[0m     conn \u001b[39m=\u001b[39m connection\u001b[39m.\u001b[39;49mcreate_connection(\n\u001b[0;32m    175\u001b[0m         (\u001b[39mself\u001b[39;49m\u001b[39m.\u001b[39;49m_dns_host, \u001b[39mself\u001b[39;49m\u001b[39m.\u001b[39;49mport), \u001b[39mself\u001b[39;49m\u001b[39m.\u001b[39;49mtimeout, \u001b[39m*\u001b[39;49m\u001b[39m*\u001b[39;49mextra_kw\n\u001b[0;32m    176\u001b[0m     )\n\u001b[0;32m    178\u001b[0m \u001b[39mexcept\u001b[39;00m SocketTimeout:\n",
      "File \u001b[1;32md:\\APPs\\Anaconda\\envs\\Pytorch_env\\lib\\site-packages\\urllib3\\util\\connection.py:95\u001b[0m, in \u001b[0;36mcreate_connection\u001b[1;34m(address, timeout, source_address, socket_options)\u001b[0m\n\u001b[0;32m     94\u001b[0m \u001b[39mif\u001b[39;00m err \u001b[39mis\u001b[39;00m \u001b[39mnot\u001b[39;00m \u001b[39mNone\u001b[39;00m:\n\u001b[1;32m---> 95\u001b[0m     \u001b[39mraise\u001b[39;00m err\n\u001b[0;32m     97\u001b[0m \u001b[39mraise\u001b[39;00m socket\u001b[39m.\u001b[39merror(\u001b[39m\"\u001b[39m\u001b[39mgetaddrinfo returns an empty list\u001b[39m\u001b[39m\"\u001b[39m)\n",
      "File \u001b[1;32md:\\APPs\\Anaconda\\envs\\Pytorch_env\\lib\\site-packages\\urllib3\\util\\connection.py:85\u001b[0m, in \u001b[0;36mcreate_connection\u001b[1;34m(address, timeout, source_address, socket_options)\u001b[0m\n\u001b[0;32m     84\u001b[0m     sock\u001b[39m.\u001b[39mbind(source_address)\n\u001b[1;32m---> 85\u001b[0m sock\u001b[39m.\u001b[39;49mconnect(sa)\n\u001b[0;32m     86\u001b[0m \u001b[39mreturn\u001b[39;00m sock\n",
      "\u001b[1;31mTimeoutError\u001b[0m: [WinError 10060] 由于连接方在一段时间后没有正确答复或连接的主机没有反应，连接尝试失败。",
      "\nDuring handling of the above exception, another exception occurred:\n",
      "\u001b[1;31mNewConnectionError\u001b[0m                        Traceback (most recent call last)",
      "File \u001b[1;32md:\\APPs\\Anaconda\\envs\\Pytorch_env\\lib\\site-packages\\urllib3\\connectionpool.py:703\u001b[0m, in \u001b[0;36mHTTPConnectionPool.urlopen\u001b[1;34m(self, method, url, body, headers, retries, redirect, assert_same_host, timeout, pool_timeout, release_conn, chunked, body_pos, **response_kw)\u001b[0m\n\u001b[0;32m    702\u001b[0m \u001b[39m# Make the request on the httplib connection object.\u001b[39;00m\n\u001b[1;32m--> 703\u001b[0m httplib_response \u001b[39m=\u001b[39m \u001b[39mself\u001b[39;49m\u001b[39m.\u001b[39;49m_make_request(\n\u001b[0;32m    704\u001b[0m     conn,\n\u001b[0;32m    705\u001b[0m     method,\n\u001b[0;32m    706\u001b[0m     url,\n\u001b[0;32m    707\u001b[0m     timeout\u001b[39m=\u001b[39;49mtimeout_obj,\n\u001b[0;32m    708\u001b[0m     body\u001b[39m=\u001b[39;49mbody,\n\u001b[0;32m    709\u001b[0m     headers\u001b[39m=\u001b[39;49mheaders,\n\u001b[0;32m    710\u001b[0m     chunked\u001b[39m=\u001b[39;49mchunked,\n\u001b[0;32m    711\u001b[0m )\n\u001b[0;32m    713\u001b[0m \u001b[39m# If we're going to release the connection in ``finally:``, then\u001b[39;00m\n\u001b[0;32m    714\u001b[0m \u001b[39m# the response doesn't need to know about the connection. Otherwise\u001b[39;00m\n\u001b[0;32m    715\u001b[0m \u001b[39m# it will also try to release it and we'll have a double-release\u001b[39;00m\n\u001b[0;32m    716\u001b[0m \u001b[39m# mess.\u001b[39;00m\n",
      "File \u001b[1;32md:\\APPs\\Anaconda\\envs\\Pytorch_env\\lib\\site-packages\\urllib3\\connectionpool.py:386\u001b[0m, in \u001b[0;36mHTTPConnectionPool._make_request\u001b[1;34m(self, conn, method, url, timeout, chunked, **httplib_request_kw)\u001b[0m\n\u001b[0;32m    385\u001b[0m \u001b[39mtry\u001b[39;00m:\n\u001b[1;32m--> 386\u001b[0m     \u001b[39mself\u001b[39;49m\u001b[39m.\u001b[39;49m_validate_conn(conn)\n\u001b[0;32m    387\u001b[0m \u001b[39mexcept\u001b[39;00m (SocketTimeout, BaseSSLError) \u001b[39mas\u001b[39;00m e:\n\u001b[0;32m    388\u001b[0m     \u001b[39m# Py2 raises this as a BaseSSLError, Py3 raises it as socket timeout.\u001b[39;00m\n",
      "File \u001b[1;32md:\\APPs\\Anaconda\\envs\\Pytorch_env\\lib\\site-packages\\urllib3\\connectionpool.py:1040\u001b[0m, in \u001b[0;36mHTTPSConnectionPool._validate_conn\u001b[1;34m(self, conn)\u001b[0m\n\u001b[0;32m   1039\u001b[0m \u001b[39mif\u001b[39;00m \u001b[39mnot\u001b[39;00m \u001b[39mgetattr\u001b[39m(conn, \u001b[39m\"\u001b[39m\u001b[39msock\u001b[39m\u001b[39m\"\u001b[39m, \u001b[39mNone\u001b[39;00m):  \u001b[39m# AppEngine might not have  `.sock`\u001b[39;00m\n\u001b[1;32m-> 1040\u001b[0m     conn\u001b[39m.\u001b[39;49mconnect()\n\u001b[0;32m   1042\u001b[0m \u001b[39mif\u001b[39;00m \u001b[39mnot\u001b[39;00m conn\u001b[39m.\u001b[39mis_verified:\n",
      "File \u001b[1;32md:\\APPs\\Anaconda\\envs\\Pytorch_env\\lib\\site-packages\\urllib3\\connection.py:358\u001b[0m, in \u001b[0;36mHTTPSConnection.connect\u001b[1;34m(self)\u001b[0m\n\u001b[0;32m    356\u001b[0m \u001b[39mdef\u001b[39;00m \u001b[39mconnect\u001b[39m(\u001b[39mself\u001b[39m):\n\u001b[0;32m    357\u001b[0m     \u001b[39m# Add certificate verification\u001b[39;00m\n\u001b[1;32m--> 358\u001b[0m     \u001b[39mself\u001b[39m\u001b[39m.\u001b[39msock \u001b[39m=\u001b[39m conn \u001b[39m=\u001b[39m \u001b[39mself\u001b[39;49m\u001b[39m.\u001b[39;49m_new_conn()\n\u001b[0;32m    359\u001b[0m     hostname \u001b[39m=\u001b[39m \u001b[39mself\u001b[39m\u001b[39m.\u001b[39mhost\n",
      "File \u001b[1;32md:\\APPs\\Anaconda\\envs\\Pytorch_env\\lib\\site-packages\\urllib3\\connection.py:186\u001b[0m, in \u001b[0;36mHTTPConnection._new_conn\u001b[1;34m(self)\u001b[0m\n\u001b[0;32m    185\u001b[0m \u001b[39mexcept\u001b[39;00m SocketError \u001b[39mas\u001b[39;00m e:\n\u001b[1;32m--> 186\u001b[0m     \u001b[39mraise\u001b[39;00m NewConnectionError(\n\u001b[0;32m    187\u001b[0m         \u001b[39mself\u001b[39m, \u001b[39m\"\u001b[39m\u001b[39mFailed to establish a new connection: \u001b[39m\u001b[39m%s\u001b[39;00m\u001b[39m\"\u001b[39m \u001b[39m%\u001b[39m e\n\u001b[0;32m    188\u001b[0m     )\n\u001b[0;32m    190\u001b[0m \u001b[39mreturn\u001b[39;00m conn\n",
      "\u001b[1;31mNewConnectionError\u001b[0m: <urllib3.connection.HTTPSConnection object at 0x000001F7598E08E0>: Failed to establish a new connection: [WinError 10060] 由于连接方在一段时间后没有正确答复或连接的主机没有反应，连接尝试失败。",
      "\nDuring handling of the above exception, another exception occurred:\n",
      "\u001b[1;31mMaxRetryError\u001b[0m                             Traceback (most recent call last)",
      "File \u001b[1;32md:\\APPs\\Anaconda\\envs\\Pytorch_env\\lib\\site-packages\\requests\\adapters.py:440\u001b[0m, in \u001b[0;36mHTTPAdapter.send\u001b[1;34m(self, request, stream, timeout, verify, cert, proxies)\u001b[0m\n\u001b[0;32m    439\u001b[0m \u001b[39mif\u001b[39;00m \u001b[39mnot\u001b[39;00m chunked:\n\u001b[1;32m--> 440\u001b[0m     resp \u001b[39m=\u001b[39m conn\u001b[39m.\u001b[39;49murlopen(\n\u001b[0;32m    441\u001b[0m         method\u001b[39m=\u001b[39;49mrequest\u001b[39m.\u001b[39;49mmethod,\n\u001b[0;32m    442\u001b[0m         url\u001b[39m=\u001b[39;49murl,\n\u001b[0;32m    443\u001b[0m         body\u001b[39m=\u001b[39;49mrequest\u001b[39m.\u001b[39;49mbody,\n\u001b[0;32m    444\u001b[0m         headers\u001b[39m=\u001b[39;49mrequest\u001b[39m.\u001b[39;49mheaders,\n\u001b[0;32m    445\u001b[0m         redirect\u001b[39m=\u001b[39;49m\u001b[39mFalse\u001b[39;49;00m,\n\u001b[0;32m    446\u001b[0m         assert_same_host\u001b[39m=\u001b[39;49m\u001b[39mFalse\u001b[39;49;00m,\n\u001b[0;32m    447\u001b[0m         preload_content\u001b[39m=\u001b[39;49m\u001b[39mFalse\u001b[39;49;00m,\n\u001b[0;32m    448\u001b[0m         decode_content\u001b[39m=\u001b[39;49m\u001b[39mFalse\u001b[39;49;00m,\n\u001b[0;32m    449\u001b[0m         retries\u001b[39m=\u001b[39;49m\u001b[39mself\u001b[39;49m\u001b[39m.\u001b[39;49mmax_retries,\n\u001b[0;32m    450\u001b[0m         timeout\u001b[39m=\u001b[39;49mtimeout\n\u001b[0;32m    451\u001b[0m     )\n\u001b[0;32m    453\u001b[0m \u001b[39m# Send the request.\u001b[39;00m\n\u001b[0;32m    454\u001b[0m \u001b[39melse\u001b[39;00m:\n",
      "File \u001b[1;32md:\\APPs\\Anaconda\\envs\\Pytorch_env\\lib\\site-packages\\urllib3\\connectionpool.py:785\u001b[0m, in \u001b[0;36mHTTPConnectionPool.urlopen\u001b[1;34m(self, method, url, body, headers, retries, redirect, assert_same_host, timeout, pool_timeout, release_conn, chunked, body_pos, **response_kw)\u001b[0m\n\u001b[0;32m    783\u001b[0m     e \u001b[39m=\u001b[39m ProtocolError(\u001b[39m\"\u001b[39m\u001b[39mConnection aborted.\u001b[39m\u001b[39m\"\u001b[39m, e)\n\u001b[1;32m--> 785\u001b[0m retries \u001b[39m=\u001b[39m retries\u001b[39m.\u001b[39;49mincrement(\n\u001b[0;32m    786\u001b[0m     method, url, error\u001b[39m=\u001b[39;49me, _pool\u001b[39m=\u001b[39;49m\u001b[39mself\u001b[39;49m, _stacktrace\u001b[39m=\u001b[39;49msys\u001b[39m.\u001b[39;49mexc_info()[\u001b[39m2\u001b[39;49m]\n\u001b[0;32m    787\u001b[0m )\n\u001b[0;32m    788\u001b[0m retries\u001b[39m.\u001b[39msleep()\n",
      "File \u001b[1;32md:\\APPs\\Anaconda\\envs\\Pytorch_env\\lib\\site-packages\\urllib3\\util\\retry.py:592\u001b[0m, in \u001b[0;36mRetry.increment\u001b[1;34m(self, method, url, response, error, _pool, _stacktrace)\u001b[0m\n\u001b[0;32m    591\u001b[0m \u001b[39mif\u001b[39;00m new_retry\u001b[39m.\u001b[39mis_exhausted():\n\u001b[1;32m--> 592\u001b[0m     \u001b[39mraise\u001b[39;00m MaxRetryError(_pool, url, error \u001b[39mor\u001b[39;00m ResponseError(cause))\n\u001b[0;32m    594\u001b[0m log\u001b[39m.\u001b[39mdebug(\u001b[39m\"\u001b[39m\u001b[39mIncremented Retry for (url=\u001b[39m\u001b[39m'\u001b[39m\u001b[39m%s\u001b[39;00m\u001b[39m'\u001b[39m\u001b[39m): \u001b[39m\u001b[39m%r\u001b[39;00m\u001b[39m\"\u001b[39m, url, new_retry)\n",
      "\u001b[1;31mMaxRetryError\u001b[0m: HTTPSConnectionPool(host='www.fashionnova.com', port=443): Max retries exceeded with url: /collections?page=1 (Caused by NewConnectionError('<urllib3.connection.HTTPSConnection object at 0x000001F7598E08E0>: Failed to establish a new connection: [WinError 10060] 由于连接方在一段时间后没有正确答复或连接的主机没有反应，连接尝试失败。'))",
      "\nDuring handling of the above exception, another exception occurred:\n",
      "\u001b[1;31mConnectionError\u001b[0m                           Traceback (most recent call last)",
      "\u001b[1;32mc:\\Users\\Administrator\\Desktop\\fashionnova\\code\\scratchData\\data copy.ipynb Cell 13\u001b[0m in \u001b[0;36m<cell line: 2>\u001b[1;34m()\u001b[0m\n\u001b[0;32m      <a href='vscode-notebook-cell:/c%3A/Users/Administrator/Desktop/fashionnova/code/scratchData/data%20copy.ipynb#X15sZmlsZQ%3D%3D?line=1'>2</a>\u001b[0m \u001b[39mfor\u001b[39;00m page \u001b[39min\u001b[39;00m \u001b[39mrange\u001b[39m(\u001b[39m3\u001b[39m):\n\u001b[0;32m      <a href='vscode-notebook-cell:/c%3A/Users/Administrator/Desktop/fashionnova/code/scratchData/data%20copy.ipynb#X15sZmlsZQ%3D%3D?line=2'>3</a>\u001b[0m     fashionnova_page \u001b[39m=\u001b[39m Get_url()\n\u001b[1;32m----> <a href='vscode-notebook-cell:/c%3A/Users/Administrator/Desktop/fashionnova/code/scratchData/data%20copy.ipynb#X15sZmlsZQ%3D%3D?line=3'>4</a>\u001b[0m     htmls \u001b[39m=\u001b[39m fashionnova_page\u001b[39m.\u001b[39;49mget_urls(page\u001b[39m+\u001b[39;49m\u001b[39m1\u001b[39;49m)\n\u001b[0;32m      <a href='vscode-notebook-cell:/c%3A/Users/Administrator/Desktop/fashionnova/code/scratchData/data%20copy.ipynb#X15sZmlsZQ%3D%3D?line=4'>5</a>\u001b[0m     urls\u001b[39m.\u001b[39mextend(htmls\u001b[39m.\u001b[39mxpath(\u001b[39m\"\u001b[39m\u001b[39m//*[@id=\u001b[39m\u001b[39m\\\"\u001b[39;00m\u001b[39mMainContent\u001b[39m\u001b[39m\\\"\u001b[39;00m\u001b[39m]/ul/li[.]/a/@href\u001b[39m\u001b[39m\"\u001b[39m))\n",
      "\u001b[1;32mc:\\Users\\Administrator\\Desktop\\fashionnova\\code\\scratchData\\data copy.ipynb Cell 13\u001b[0m in \u001b[0;36mGet_url.get_urls\u001b[1;34m(self, page)\u001b[0m\n\u001b[0;32m      <a href='vscode-notebook-cell:/c%3A/Users/Administrator/Desktop/fashionnova/code/scratchData/data%20copy.ipynb#X15sZmlsZQ%3D%3D?line=7'>8</a>\u001b[0m \u001b[39mdef\u001b[39;00m \u001b[39mget_urls\u001b[39m(\u001b[39mself\u001b[39m, page):\n\u001b[0;32m      <a href='vscode-notebook-cell:/c%3A/Users/Administrator/Desktop/fashionnova/code/scratchData/data%20copy.ipynb#X15sZmlsZQ%3D%3D?line=8'>9</a>\u001b[0m     params \u001b[39m=\u001b[39m {\n\u001b[0;32m     <a href='vscode-notebook-cell:/c%3A/Users/Administrator/Desktop/fashionnova/code/scratchData/data%20copy.ipynb#X15sZmlsZQ%3D%3D?line=9'>10</a>\u001b[0m         \u001b[39m'\u001b[39m\u001b[39mpage\u001b[39m\u001b[39m'\u001b[39m:page,\n\u001b[0;32m     <a href='vscode-notebook-cell:/c%3A/Users/Administrator/Desktop/fashionnova/code/scratchData/data%20copy.ipynb#X15sZmlsZQ%3D%3D?line=10'>11</a>\u001b[0m     }\n\u001b[1;32m---> <a href='vscode-notebook-cell:/c%3A/Users/Administrator/Desktop/fashionnova/code/scratchData/data%20copy.ipynb#X15sZmlsZQ%3D%3D?line=11'>12</a>\u001b[0m     response \u001b[39m=\u001b[39m requests\u001b[39m.\u001b[39;49mget(\u001b[39mself\u001b[39;49m\u001b[39m.\u001b[39;49mcollections_url, headers \u001b[39m=\u001b[39;49m \u001b[39mself\u001b[39;49m\u001b[39m.\u001b[39;49mheaders, params\u001b[39m=\u001b[39;49mparams)\n\u001b[0;32m     <a href='vscode-notebook-cell:/c%3A/Users/Administrator/Desktop/fashionnova/code/scratchData/data%20copy.ipynb#X15sZmlsZQ%3D%3D?line=12'>13</a>\u001b[0m     response\u001b[39m.\u001b[39mencoding \u001b[39m=\u001b[39m \u001b[39m'\u001b[39m\u001b[39mutf-8\u001b[39m\u001b[39m'\u001b[39m\n\u001b[0;32m     <a href='vscode-notebook-cell:/c%3A/Users/Administrator/Desktop/fashionnova/code/scratchData/data%20copy.ipynb#X15sZmlsZQ%3D%3D?line=13'>14</a>\u001b[0m     html \u001b[39m=\u001b[39m etree\u001b[39m.\u001b[39mHTML(response\u001b[39m.\u001b[39mtext)\n",
      "File \u001b[1;32md:\\APPs\\Anaconda\\envs\\Pytorch_env\\lib\\site-packages\\requests\\api.py:75\u001b[0m, in \u001b[0;36mget\u001b[1;34m(url, params, **kwargs)\u001b[0m\n\u001b[0;32m     64\u001b[0m \u001b[39mdef\u001b[39;00m \u001b[39mget\u001b[39m(url, params\u001b[39m=\u001b[39m\u001b[39mNone\u001b[39;00m, \u001b[39m*\u001b[39m\u001b[39m*\u001b[39mkwargs):\n\u001b[0;32m     65\u001b[0m     \u001b[39mr\u001b[39m\u001b[39m\"\"\"Sends a GET request.\u001b[39;00m\n\u001b[0;32m     66\u001b[0m \n\u001b[0;32m     67\u001b[0m \u001b[39m    :param url: URL for the new :class:`Request` object.\u001b[39;00m\n\u001b[1;32m   (...)\u001b[0m\n\u001b[0;32m     72\u001b[0m \u001b[39m    :rtype: requests.Response\u001b[39;00m\n\u001b[0;32m     73\u001b[0m \u001b[39m    \"\"\"\u001b[39;00m\n\u001b[1;32m---> 75\u001b[0m     \u001b[39mreturn\u001b[39;00m request(\u001b[39m'\u001b[39;49m\u001b[39mget\u001b[39;49m\u001b[39m'\u001b[39;49m, url, params\u001b[39m=\u001b[39;49mparams, \u001b[39m*\u001b[39;49m\u001b[39m*\u001b[39;49mkwargs)\n",
      "File \u001b[1;32md:\\APPs\\Anaconda\\envs\\Pytorch_env\\lib\\site-packages\\requests\\api.py:61\u001b[0m, in \u001b[0;36mrequest\u001b[1;34m(method, url, **kwargs)\u001b[0m\n\u001b[0;32m     57\u001b[0m \u001b[39m# By using the 'with' statement we are sure the session is closed, thus we\u001b[39;00m\n\u001b[0;32m     58\u001b[0m \u001b[39m# avoid leaving sockets open which can trigger a ResourceWarning in some\u001b[39;00m\n\u001b[0;32m     59\u001b[0m \u001b[39m# cases, and look like a memory leak in others.\u001b[39;00m\n\u001b[0;32m     60\u001b[0m \u001b[39mwith\u001b[39;00m sessions\u001b[39m.\u001b[39mSession() \u001b[39mas\u001b[39;00m session:\n\u001b[1;32m---> 61\u001b[0m     \u001b[39mreturn\u001b[39;00m session\u001b[39m.\u001b[39;49mrequest(method\u001b[39m=\u001b[39;49mmethod, url\u001b[39m=\u001b[39;49murl, \u001b[39m*\u001b[39;49m\u001b[39m*\u001b[39;49mkwargs)\n",
      "File \u001b[1;32md:\\APPs\\Anaconda\\envs\\Pytorch_env\\lib\\site-packages\\requests\\sessions.py:529\u001b[0m, in \u001b[0;36mSession.request\u001b[1;34m(self, method, url, params, data, headers, cookies, files, auth, timeout, allow_redirects, proxies, hooks, stream, verify, cert, json)\u001b[0m\n\u001b[0;32m    524\u001b[0m send_kwargs \u001b[39m=\u001b[39m {\n\u001b[0;32m    525\u001b[0m     \u001b[39m'\u001b[39m\u001b[39mtimeout\u001b[39m\u001b[39m'\u001b[39m: timeout,\n\u001b[0;32m    526\u001b[0m     \u001b[39m'\u001b[39m\u001b[39mallow_redirects\u001b[39m\u001b[39m'\u001b[39m: allow_redirects,\n\u001b[0;32m    527\u001b[0m }\n\u001b[0;32m    528\u001b[0m send_kwargs\u001b[39m.\u001b[39mupdate(settings)\n\u001b[1;32m--> 529\u001b[0m resp \u001b[39m=\u001b[39m \u001b[39mself\u001b[39;49m\u001b[39m.\u001b[39;49msend(prep, \u001b[39m*\u001b[39;49m\u001b[39m*\u001b[39;49msend_kwargs)\n\u001b[0;32m    531\u001b[0m \u001b[39mreturn\u001b[39;00m resp\n",
      "File \u001b[1;32md:\\APPs\\Anaconda\\envs\\Pytorch_env\\lib\\site-packages\\requests\\sessions.py:645\u001b[0m, in \u001b[0;36mSession.send\u001b[1;34m(self, request, **kwargs)\u001b[0m\n\u001b[0;32m    642\u001b[0m start \u001b[39m=\u001b[39m preferred_clock()\n\u001b[0;32m    644\u001b[0m \u001b[39m# Send the request\u001b[39;00m\n\u001b[1;32m--> 645\u001b[0m r \u001b[39m=\u001b[39m adapter\u001b[39m.\u001b[39;49msend(request, \u001b[39m*\u001b[39;49m\u001b[39m*\u001b[39;49mkwargs)\n\u001b[0;32m    647\u001b[0m \u001b[39m# Total elapsed time of the request (approximately)\u001b[39;00m\n\u001b[0;32m    648\u001b[0m elapsed \u001b[39m=\u001b[39m preferred_clock() \u001b[39m-\u001b[39m start\n",
      "File \u001b[1;32md:\\APPs\\Anaconda\\envs\\Pytorch_env\\lib\\site-packages\\requests\\adapters.py:519\u001b[0m, in \u001b[0;36mHTTPAdapter.send\u001b[1;34m(self, request, stream, timeout, verify, cert, proxies)\u001b[0m\n\u001b[0;32m    515\u001b[0m     \u001b[39mif\u001b[39;00m \u001b[39misinstance\u001b[39m(e\u001b[39m.\u001b[39mreason, _SSLError):\n\u001b[0;32m    516\u001b[0m         \u001b[39m# This branch is for urllib3 v1.22 and later.\u001b[39;00m\n\u001b[0;32m    517\u001b[0m         \u001b[39mraise\u001b[39;00m SSLError(e, request\u001b[39m=\u001b[39mrequest)\n\u001b[1;32m--> 519\u001b[0m     \u001b[39mraise\u001b[39;00m \u001b[39mConnectionError\u001b[39;00m(e, request\u001b[39m=\u001b[39mrequest)\n\u001b[0;32m    521\u001b[0m \u001b[39mexcept\u001b[39;00m ClosedPoolError \u001b[39mas\u001b[39;00m e:\n\u001b[0;32m    522\u001b[0m     \u001b[39mraise\u001b[39;00m \u001b[39mConnectionError\u001b[39;00m(e, request\u001b[39m=\u001b[39mrequest)\n",
      "\u001b[1;31mConnectionError\u001b[0m: HTTPSConnectionPool(host='www.fashionnova.com', port=443): Max retries exceeded with url: /collections?page=1 (Caused by NewConnectionError('<urllib3.connection.HTTPSConnection object at 0x000001F7598E08E0>: Failed to establish a new connection: [WinError 10060] 由于连接方在一段时间后没有正确答复或连接的主机没有反应，连接尝试失败。'))"
     ]
    }
   ],
   "source": [
    "urls = []\n",
    "for page in range(3):\n",
    "    fashionnova_page = Get_url()\n",
    "    htmls = fashionnova_page.get_urls(page+1)\n",
    "    urls.extend(htmls.xpath(\"//*[@id=\\\"MainContent\\\"]/ul/li[.]/a/@href\"))\n",
    "\n"
   ]
  },
  {
   "cell_type": "code",
   "execution_count": 19,
   "metadata": {},
   "outputs": [
    {
     "name": "stdout",
     "output_type": "stream",
     "text": [
      "The number of types in fashionnova is: 2134\n"
     ]
    }
   ],
   "source": [
    "print('The number of types in fashionnova is:', len(urls))"
   ]
  },
  {
   "cell_type": "code",
   "execution_count": 20,
   "metadata": {},
   "outputs": [],
   "source": [
    "class Get_products():\n",
    "    def __init__(self, url) -> None:\n",
    "        self.url = url\n",
    "        self.headers = {\n",
    "    \"user-agent\": \"Mozilla/5.0 (Windows NT 10.0; WOW64) AppleWebKit/537.36 (KHTML, like Gecko) Chrome/100.0.4896.60 Safari/537.36\"\n",
    "                        }\n",
    "    def get_products(self, page):\n",
    "        params = {\n",
    "            'page':page,\n",
    "        }\n",
    "        res = requests.get(self.url, headers = self.headers, params=params)\n",
    "       \n",
    "        res.encoding = 'utf-8'\n",
    "        products = res.json()[\"products\"]\n",
    "\n",
    "        return products"
   ]
  },
  {
   "cell_type": "code",
   "execution_count": 23,
   "metadata": {},
   "outputs": [
    {
     "data": {
      "text/plain": [
       "'/collections/best-selling-jean'"
      ]
     },
     "execution_count": 23,
     "metadata": {},
     "output_type": "execute_result"
    }
   ],
   "source": [
    "urls[0]"
   ]
  },
  {
   "cell_type": "code",
   "execution_count": 27,
   "metadata": {},
   "outputs": [
    {
     "name": "stdout",
     "output_type": "stream",
     "text": [
      "File will be closed\n"
     ]
    }
   ],
   "source": [
    "import csv\n",
    "import time\n",
    "import pandas as pd\n",
    "import numpy as np\n",
    "\n",
    "\n",
    "url_original = 'https://www.fashionnova.com'\n",
    "cnt = 0\n",
    "f = open('../../data/fashionnova_item_new.csv', mode='w', encoding='utf-8',newline = '')\n",
    "writer = csv.writer(f)\n",
    "field_names = ['shop_idx','url','title','body_html','img','publish_date','updated_date','vendor','product_type','tags']\n",
    "writer.writerow(field_names)\n",
    "\n",
    "for url in urls:\n",
    "    url_cur = url_original + url+'/products.json'\n",
    "    print(url_cur)\n",
    "    fashionnova_item = Get_products(url_cur)\n",
    "    page = 1\n",
    "\n",
    "    products = fashionnova_item.get_products(page)\n",
    "    while products:\n",
    "        for product in products:\n",
    "            index = cnt\n",
    "            title = product[\"title\"]\n",
    "            body_html = product[\"body_html\"]\n",
    "            img = product[\"images\"]\n",
    "            slug = product[\"handle\"]\n",
    "            publish_date = product[\"published_at\"]\n",
    "            updated_date = product[\"updated_at\"]\n",
    "            vendor = product[\"vendor\"]\n",
    "            product_type = product[\"product_type\"]\n",
    "            tags = product[\"tags\"]\n",
    "            details = [index, url_cur, title, body_html,img, publish_date, updated_date, vendor, product_type, tags]\n",
    "            writer.writerow(details)\n",
    "        page+=1\n",
    "        products = fashionnova_item.get_products(page)\n",
    "    cnt+=1\n",
    "print('File will be closed')\n",
    "f.close()"
   ]
  },
  {
   "cell_type": "code",
   "execution_count": 25,
   "metadata": {},
   "outputs": [],
   "source": [
    "f.close()"
   ]
  },
  {
   "cell_type": "code",
   "execution_count": 175,
   "metadata": {},
   "outputs": [
    {
     "data": {
      "text/plain": [
       "3515"
      ]
     },
     "execution_count": 175,
     "metadata": {},
     "output_type": "execute_result"
    }
   ],
   "source": [
    "20+2959+86+290+160"
   ]
  },
  {
   "cell_type": "code",
   "execution_count": 270,
   "metadata": {},
   "outputs": [
    {
     "data": {
      "text/plain": [
       "2125"
      ]
     },
     "execution_count": 270,
     "metadata": {},
     "output_type": "execute_result"
    }
   ],
   "source": [
    "len(urls)"
   ]
  },
  {
   "cell_type": "code",
   "execution_count": 272,
   "metadata": {},
   "outputs": [
    {
     "name": "stdout",
     "output_type": "stream",
     "text": [
      "/collections/biker-shorts\n",
      "/collections/active-bikershorts\n",
      "/collections/birthday-dresses\n",
      "/collections/birthday-tops\n",
      "/collections/black-bottoms\n",
      "/collections/black-collection\n",
      "/collections/little-black-dress\n",
      "/collections/black-history-month\n",
      "/collections/black-jackets\n",
      "/collections/black-jeans\n",
      "/collections/black-jumpsuits\n",
      "/collections/black-jumpsuits-rompers\n",
      "/collections/black-lingerie\n",
      "/collections/black-rompers\n"
     ]
    },
    {
     "ename": "KeyboardInterrupt",
     "evalue": "",
     "output_type": "error",
     "traceback": [
      "\u001b[1;31m---------------------------------------------------------------------------\u001b[0m",
      "\u001b[1;31mTimeoutError\u001b[0m                              Traceback (most recent call last)",
      "File \u001b[1;32md:\\APPs\\Anaconda\\envs\\Pytorch_env\\lib\\site-packages\\urllib3\\util\\connection.py:85\u001b[0m, in \u001b[0;36mcreate_connection\u001b[1;34m(address, timeout, source_address, socket_options)\u001b[0m\n\u001b[0;32m     84\u001b[0m     sock\u001b[39m.\u001b[39mbind(source_address)\n\u001b[1;32m---> 85\u001b[0m sock\u001b[39m.\u001b[39;49mconnect(sa)\n\u001b[0;32m     86\u001b[0m \u001b[39mreturn\u001b[39;00m sock\n",
      "\u001b[1;31mTimeoutError\u001b[0m: [WinError 10060] 由于连接方在一段时间后没有正确答复或连接的主机没有反应，连接尝试失败。",
      "\nDuring handling of the above exception, another exception occurred:\n",
      "\u001b[1;31mKeyboardInterrupt\u001b[0m                         Traceback (most recent call last)",
      "\u001b[1;32mc:\\Users\\Administrator\\Desktop\\fashionnova\\code\\scratchData\\data.ipynb Cell 26\u001b[0m in \u001b[0;36m<cell line: 1>\u001b[1;34m()\u001b[0m\n\u001b[0;32m      <a href='vscode-notebook-cell:/c%3A/Users/Administrator/Desktop/fashionnova/code/scratchData/data.ipynb#Y153sZmlsZQ%3D%3D?line=2'>3</a>\u001b[0m \u001b[39mtry\u001b[39;00m:\n\u001b[0;32m      <a href='vscode-notebook-cell:/c%3A/Users/Administrator/Desktop/fashionnova/code/scratchData/data.ipynb#Y153sZmlsZQ%3D%3D?line=3'>4</a>\u001b[0m     fashionnova_item \u001b[39m=\u001b[39m Get_products(url_cur)\n\u001b[1;32m----> <a href='vscode-notebook-cell:/c%3A/Users/Administrator/Desktop/fashionnova/code/scratchData/data.ipynb#Y153sZmlsZQ%3D%3D?line=4'>5</a>\u001b[0m     products \u001b[39m=\u001b[39m fashionnova_item\u001b[39m.\u001b[39;49mget_urls(page)\n\u001b[0;32m      <a href='vscode-notebook-cell:/c%3A/Users/Administrator/Desktop/fashionnova/code/scratchData/data.ipynb#Y153sZmlsZQ%3D%3D?line=5'>6</a>\u001b[0m \u001b[39mexcept\u001b[39;00m \u001b[39mException\u001b[39;00m \u001b[39mas\u001b[39;00m e:\n\u001b[0;32m      <a href='vscode-notebook-cell:/c%3A/Users/Administrator/Desktop/fashionnova/code/scratchData/data.ipynb#Y153sZmlsZQ%3D%3D?line=6'>7</a>\u001b[0m     \u001b[39mprint\u001b[39m(url)\n",
      "\u001b[1;32mc:\\Users\\Administrator\\Desktop\\fashionnova\\code\\scratchData\\data.ipynb Cell 26\u001b[0m in \u001b[0;36mGet_products.get_urls\u001b[1;34m(self, page)\u001b[0m\n\u001b[0;32m      <a href='vscode-notebook-cell:/c%3A/Users/Administrator/Desktop/fashionnova/code/scratchData/data.ipynb#Y153sZmlsZQ%3D%3D?line=6'>7</a>\u001b[0m \u001b[39mdef\u001b[39;00m \u001b[39mget_urls\u001b[39m(\u001b[39mself\u001b[39m, page):\n\u001b[0;32m      <a href='vscode-notebook-cell:/c%3A/Users/Administrator/Desktop/fashionnova/code/scratchData/data.ipynb#Y153sZmlsZQ%3D%3D?line=7'>8</a>\u001b[0m     params \u001b[39m=\u001b[39m {\n\u001b[0;32m      <a href='vscode-notebook-cell:/c%3A/Users/Administrator/Desktop/fashionnova/code/scratchData/data.ipynb#Y153sZmlsZQ%3D%3D?line=8'>9</a>\u001b[0m         \u001b[39m'\u001b[39m\u001b[39mpage\u001b[39m\u001b[39m'\u001b[39m:page,\n\u001b[0;32m     <a href='vscode-notebook-cell:/c%3A/Users/Administrator/Desktop/fashionnova/code/scratchData/data.ipynb#Y153sZmlsZQ%3D%3D?line=9'>10</a>\u001b[0m     }\n\u001b[1;32m---> <a href='vscode-notebook-cell:/c%3A/Users/Administrator/Desktop/fashionnova/code/scratchData/data.ipynb#Y153sZmlsZQ%3D%3D?line=10'>11</a>\u001b[0m     res \u001b[39m=\u001b[39m requests\u001b[39m.\u001b[39;49mget(\u001b[39mself\u001b[39;49m\u001b[39m.\u001b[39;49murl, headers \u001b[39m=\u001b[39;49m \u001b[39mself\u001b[39;49m\u001b[39m.\u001b[39;49mheaders, params\u001b[39m=\u001b[39;49mparams)\n\u001b[0;32m     <a href='vscode-notebook-cell:/c%3A/Users/Administrator/Desktop/fashionnova/code/scratchData/data.ipynb#Y153sZmlsZQ%3D%3D?line=11'>12</a>\u001b[0m     res\u001b[39m.\u001b[39mencoding \u001b[39m=\u001b[39m \u001b[39m'\u001b[39m\u001b[39mutf-8\u001b[39m\u001b[39m'\u001b[39m\n\u001b[0;32m     <a href='vscode-notebook-cell:/c%3A/Users/Administrator/Desktop/fashionnova/code/scratchData/data.ipynb#Y153sZmlsZQ%3D%3D?line=12'>13</a>\u001b[0m     products \u001b[39m=\u001b[39m res\u001b[39m.\u001b[39mjson()[\u001b[39m\"\u001b[39m\u001b[39mproducts\u001b[39m\u001b[39m\"\u001b[39m]\n",
      "File \u001b[1;32md:\\APPs\\Anaconda\\envs\\Pytorch_env\\lib\\site-packages\\requests\\api.py:75\u001b[0m, in \u001b[0;36mget\u001b[1;34m(url, params, **kwargs)\u001b[0m\n\u001b[0;32m     64\u001b[0m \u001b[39mdef\u001b[39;00m \u001b[39mget\u001b[39m(url, params\u001b[39m=\u001b[39m\u001b[39mNone\u001b[39;00m, \u001b[39m*\u001b[39m\u001b[39m*\u001b[39mkwargs):\n\u001b[0;32m     65\u001b[0m     \u001b[39mr\u001b[39m\u001b[39m\"\"\"Sends a GET request.\u001b[39;00m\n\u001b[0;32m     66\u001b[0m \n\u001b[0;32m     67\u001b[0m \u001b[39m    :param url: URL for the new :class:`Request` object.\u001b[39;00m\n\u001b[1;32m   (...)\u001b[0m\n\u001b[0;32m     72\u001b[0m \u001b[39m    :rtype: requests.Response\u001b[39;00m\n\u001b[0;32m     73\u001b[0m \u001b[39m    \"\"\"\u001b[39;00m\n\u001b[1;32m---> 75\u001b[0m     \u001b[39mreturn\u001b[39;00m request(\u001b[39m'\u001b[39;49m\u001b[39mget\u001b[39;49m\u001b[39m'\u001b[39;49m, url, params\u001b[39m=\u001b[39;49mparams, \u001b[39m*\u001b[39;49m\u001b[39m*\u001b[39;49mkwargs)\n",
      "File \u001b[1;32md:\\APPs\\Anaconda\\envs\\Pytorch_env\\lib\\site-packages\\requests\\api.py:61\u001b[0m, in \u001b[0;36mrequest\u001b[1;34m(method, url, **kwargs)\u001b[0m\n\u001b[0;32m     57\u001b[0m \u001b[39m# By using the 'with' statement we are sure the session is closed, thus we\u001b[39;00m\n\u001b[0;32m     58\u001b[0m \u001b[39m# avoid leaving sockets open which can trigger a ResourceWarning in some\u001b[39;00m\n\u001b[0;32m     59\u001b[0m \u001b[39m# cases, and look like a memory leak in others.\u001b[39;00m\n\u001b[0;32m     60\u001b[0m \u001b[39mwith\u001b[39;00m sessions\u001b[39m.\u001b[39mSession() \u001b[39mas\u001b[39;00m session:\n\u001b[1;32m---> 61\u001b[0m     \u001b[39mreturn\u001b[39;00m session\u001b[39m.\u001b[39;49mrequest(method\u001b[39m=\u001b[39;49mmethod, url\u001b[39m=\u001b[39;49murl, \u001b[39m*\u001b[39;49m\u001b[39m*\u001b[39;49mkwargs)\n",
      "File \u001b[1;32md:\\APPs\\Anaconda\\envs\\Pytorch_env\\lib\\site-packages\\requests\\sessions.py:529\u001b[0m, in \u001b[0;36mSession.request\u001b[1;34m(self, method, url, params, data, headers, cookies, files, auth, timeout, allow_redirects, proxies, hooks, stream, verify, cert, json)\u001b[0m\n\u001b[0;32m    524\u001b[0m send_kwargs \u001b[39m=\u001b[39m {\n\u001b[0;32m    525\u001b[0m     \u001b[39m'\u001b[39m\u001b[39mtimeout\u001b[39m\u001b[39m'\u001b[39m: timeout,\n\u001b[0;32m    526\u001b[0m     \u001b[39m'\u001b[39m\u001b[39mallow_redirects\u001b[39m\u001b[39m'\u001b[39m: allow_redirects,\n\u001b[0;32m    527\u001b[0m }\n\u001b[0;32m    528\u001b[0m send_kwargs\u001b[39m.\u001b[39mupdate(settings)\n\u001b[1;32m--> 529\u001b[0m resp \u001b[39m=\u001b[39m \u001b[39mself\u001b[39;49m\u001b[39m.\u001b[39;49msend(prep, \u001b[39m*\u001b[39;49m\u001b[39m*\u001b[39;49msend_kwargs)\n\u001b[0;32m    531\u001b[0m \u001b[39mreturn\u001b[39;00m resp\n",
      "File \u001b[1;32md:\\APPs\\Anaconda\\envs\\Pytorch_env\\lib\\site-packages\\requests\\sessions.py:645\u001b[0m, in \u001b[0;36mSession.send\u001b[1;34m(self, request, **kwargs)\u001b[0m\n\u001b[0;32m    642\u001b[0m start \u001b[39m=\u001b[39m preferred_clock()\n\u001b[0;32m    644\u001b[0m \u001b[39m# Send the request\u001b[39;00m\n\u001b[1;32m--> 645\u001b[0m r \u001b[39m=\u001b[39m adapter\u001b[39m.\u001b[39;49msend(request, \u001b[39m*\u001b[39;49m\u001b[39m*\u001b[39;49mkwargs)\n\u001b[0;32m    647\u001b[0m \u001b[39m# Total elapsed time of the request (approximately)\u001b[39;00m\n\u001b[0;32m    648\u001b[0m elapsed \u001b[39m=\u001b[39m preferred_clock() \u001b[39m-\u001b[39m start\n",
      "File \u001b[1;32md:\\APPs\\Anaconda\\envs\\Pytorch_env\\lib\\site-packages\\requests\\adapters.py:440\u001b[0m, in \u001b[0;36mHTTPAdapter.send\u001b[1;34m(self, request, stream, timeout, verify, cert, proxies)\u001b[0m\n\u001b[0;32m    438\u001b[0m \u001b[39mtry\u001b[39;00m:\n\u001b[0;32m    439\u001b[0m     \u001b[39mif\u001b[39;00m \u001b[39mnot\u001b[39;00m chunked:\n\u001b[1;32m--> 440\u001b[0m         resp \u001b[39m=\u001b[39m conn\u001b[39m.\u001b[39;49murlopen(\n\u001b[0;32m    441\u001b[0m             method\u001b[39m=\u001b[39;49mrequest\u001b[39m.\u001b[39;49mmethod,\n\u001b[0;32m    442\u001b[0m             url\u001b[39m=\u001b[39;49murl,\n\u001b[0;32m    443\u001b[0m             body\u001b[39m=\u001b[39;49mrequest\u001b[39m.\u001b[39;49mbody,\n\u001b[0;32m    444\u001b[0m             headers\u001b[39m=\u001b[39;49mrequest\u001b[39m.\u001b[39;49mheaders,\n\u001b[0;32m    445\u001b[0m             redirect\u001b[39m=\u001b[39;49m\u001b[39mFalse\u001b[39;49;00m,\n\u001b[0;32m    446\u001b[0m             assert_same_host\u001b[39m=\u001b[39;49m\u001b[39mFalse\u001b[39;49;00m,\n\u001b[0;32m    447\u001b[0m             preload_content\u001b[39m=\u001b[39;49m\u001b[39mFalse\u001b[39;49;00m,\n\u001b[0;32m    448\u001b[0m             decode_content\u001b[39m=\u001b[39;49m\u001b[39mFalse\u001b[39;49;00m,\n\u001b[0;32m    449\u001b[0m             retries\u001b[39m=\u001b[39;49m\u001b[39mself\u001b[39;49m\u001b[39m.\u001b[39;49mmax_retries,\n\u001b[0;32m    450\u001b[0m             timeout\u001b[39m=\u001b[39;49mtimeout\n\u001b[0;32m    451\u001b[0m         )\n\u001b[0;32m    453\u001b[0m     \u001b[39m# Send the request.\u001b[39;00m\n\u001b[0;32m    454\u001b[0m     \u001b[39melse\u001b[39;00m:\n\u001b[0;32m    455\u001b[0m         \u001b[39mif\u001b[39;00m \u001b[39mhasattr\u001b[39m(conn, \u001b[39m'\u001b[39m\u001b[39mproxy_pool\u001b[39m\u001b[39m'\u001b[39m):\n",
      "File \u001b[1;32md:\\APPs\\Anaconda\\envs\\Pytorch_env\\lib\\site-packages\\urllib3\\connectionpool.py:703\u001b[0m, in \u001b[0;36mHTTPConnectionPool.urlopen\u001b[1;34m(self, method, url, body, headers, retries, redirect, assert_same_host, timeout, pool_timeout, release_conn, chunked, body_pos, **response_kw)\u001b[0m\n\u001b[0;32m    700\u001b[0m     \u001b[39mself\u001b[39m\u001b[39m.\u001b[39m_prepare_proxy(conn)\n\u001b[0;32m    702\u001b[0m \u001b[39m# Make the request on the httplib connection object.\u001b[39;00m\n\u001b[1;32m--> 703\u001b[0m httplib_response \u001b[39m=\u001b[39m \u001b[39mself\u001b[39;49m\u001b[39m.\u001b[39;49m_make_request(\n\u001b[0;32m    704\u001b[0m     conn,\n\u001b[0;32m    705\u001b[0m     method,\n\u001b[0;32m    706\u001b[0m     url,\n\u001b[0;32m    707\u001b[0m     timeout\u001b[39m=\u001b[39;49mtimeout_obj,\n\u001b[0;32m    708\u001b[0m     body\u001b[39m=\u001b[39;49mbody,\n\u001b[0;32m    709\u001b[0m     headers\u001b[39m=\u001b[39;49mheaders,\n\u001b[0;32m    710\u001b[0m     chunked\u001b[39m=\u001b[39;49mchunked,\n\u001b[0;32m    711\u001b[0m )\n\u001b[0;32m    713\u001b[0m \u001b[39m# If we're going to release the connection in ``finally:``, then\u001b[39;00m\n\u001b[0;32m    714\u001b[0m \u001b[39m# the response doesn't need to know about the connection. Otherwise\u001b[39;00m\n\u001b[0;32m    715\u001b[0m \u001b[39m# it will also try to release it and we'll have a double-release\u001b[39;00m\n\u001b[0;32m    716\u001b[0m \u001b[39m# mess.\u001b[39;00m\n\u001b[0;32m    717\u001b[0m response_conn \u001b[39m=\u001b[39m conn \u001b[39mif\u001b[39;00m \u001b[39mnot\u001b[39;00m release_conn \u001b[39melse\u001b[39;00m \u001b[39mNone\u001b[39;00m\n",
      "File \u001b[1;32md:\\APPs\\Anaconda\\envs\\Pytorch_env\\lib\\site-packages\\urllib3\\connectionpool.py:386\u001b[0m, in \u001b[0;36mHTTPConnectionPool._make_request\u001b[1;34m(self, conn, method, url, timeout, chunked, **httplib_request_kw)\u001b[0m\n\u001b[0;32m    384\u001b[0m \u001b[39m# Trigger any extra validation we need to do.\u001b[39;00m\n\u001b[0;32m    385\u001b[0m \u001b[39mtry\u001b[39;00m:\n\u001b[1;32m--> 386\u001b[0m     \u001b[39mself\u001b[39;49m\u001b[39m.\u001b[39;49m_validate_conn(conn)\n\u001b[0;32m    387\u001b[0m \u001b[39mexcept\u001b[39;00m (SocketTimeout, BaseSSLError) \u001b[39mas\u001b[39;00m e:\n\u001b[0;32m    388\u001b[0m     \u001b[39m# Py2 raises this as a BaseSSLError, Py3 raises it as socket timeout.\u001b[39;00m\n\u001b[0;32m    389\u001b[0m     \u001b[39mself\u001b[39m\u001b[39m.\u001b[39m_raise_timeout(err\u001b[39m=\u001b[39me, url\u001b[39m=\u001b[39murl, timeout_value\u001b[39m=\u001b[39mconn\u001b[39m.\u001b[39mtimeout)\n",
      "File \u001b[1;32md:\\APPs\\Anaconda\\envs\\Pytorch_env\\lib\\site-packages\\urllib3\\connectionpool.py:1040\u001b[0m, in \u001b[0;36mHTTPSConnectionPool._validate_conn\u001b[1;34m(self, conn)\u001b[0m\n\u001b[0;32m   1038\u001b[0m \u001b[39m# Force connect early to allow us to validate the connection.\u001b[39;00m\n\u001b[0;32m   1039\u001b[0m \u001b[39mif\u001b[39;00m \u001b[39mnot\u001b[39;00m \u001b[39mgetattr\u001b[39m(conn, \u001b[39m\"\u001b[39m\u001b[39msock\u001b[39m\u001b[39m\"\u001b[39m, \u001b[39mNone\u001b[39;00m):  \u001b[39m# AppEngine might not have  `.sock`\u001b[39;00m\n\u001b[1;32m-> 1040\u001b[0m     conn\u001b[39m.\u001b[39;49mconnect()\n\u001b[0;32m   1042\u001b[0m \u001b[39mif\u001b[39;00m \u001b[39mnot\u001b[39;00m conn\u001b[39m.\u001b[39mis_verified:\n\u001b[0;32m   1043\u001b[0m     warnings\u001b[39m.\u001b[39mwarn(\n\u001b[0;32m   1044\u001b[0m         (\n\u001b[0;32m   1045\u001b[0m             \u001b[39m\"\u001b[39m\u001b[39mUnverified HTTPS request is being made to host \u001b[39m\u001b[39m'\u001b[39m\u001b[39m%s\u001b[39;00m\u001b[39m'\u001b[39m\u001b[39m. \u001b[39m\u001b[39m\"\u001b[39m\n\u001b[1;32m   (...)\u001b[0m\n\u001b[0;32m   1050\u001b[0m         InsecureRequestWarning,\n\u001b[0;32m   1051\u001b[0m     )\n",
      "File \u001b[1;32md:\\APPs\\Anaconda\\envs\\Pytorch_env\\lib\\site-packages\\urllib3\\connection.py:358\u001b[0m, in \u001b[0;36mHTTPSConnection.connect\u001b[1;34m(self)\u001b[0m\n\u001b[0;32m    356\u001b[0m \u001b[39mdef\u001b[39;00m \u001b[39mconnect\u001b[39m(\u001b[39mself\u001b[39m):\n\u001b[0;32m    357\u001b[0m     \u001b[39m# Add certificate verification\u001b[39;00m\n\u001b[1;32m--> 358\u001b[0m     \u001b[39mself\u001b[39m\u001b[39m.\u001b[39msock \u001b[39m=\u001b[39m conn \u001b[39m=\u001b[39m \u001b[39mself\u001b[39;49m\u001b[39m.\u001b[39;49m_new_conn()\n\u001b[0;32m    359\u001b[0m     hostname \u001b[39m=\u001b[39m \u001b[39mself\u001b[39m\u001b[39m.\u001b[39mhost\n\u001b[0;32m    360\u001b[0m     tls_in_tls \u001b[39m=\u001b[39m \u001b[39mFalse\u001b[39;00m\n",
      "File \u001b[1;32md:\\APPs\\Anaconda\\envs\\Pytorch_env\\lib\\site-packages\\urllib3\\connection.py:174\u001b[0m, in \u001b[0;36mHTTPConnection._new_conn\u001b[1;34m(self)\u001b[0m\n\u001b[0;32m    171\u001b[0m     extra_kw[\u001b[39m\"\u001b[39m\u001b[39msocket_options\u001b[39m\u001b[39m\"\u001b[39m] \u001b[39m=\u001b[39m \u001b[39mself\u001b[39m\u001b[39m.\u001b[39msocket_options\n\u001b[0;32m    173\u001b[0m \u001b[39mtry\u001b[39;00m:\n\u001b[1;32m--> 174\u001b[0m     conn \u001b[39m=\u001b[39m connection\u001b[39m.\u001b[39;49mcreate_connection(\n\u001b[0;32m    175\u001b[0m         (\u001b[39mself\u001b[39;49m\u001b[39m.\u001b[39;49m_dns_host, \u001b[39mself\u001b[39;49m\u001b[39m.\u001b[39;49mport), \u001b[39mself\u001b[39;49m\u001b[39m.\u001b[39;49mtimeout, \u001b[39m*\u001b[39;49m\u001b[39m*\u001b[39;49mextra_kw\n\u001b[0;32m    176\u001b[0m     )\n\u001b[0;32m    178\u001b[0m \u001b[39mexcept\u001b[39;00m SocketTimeout:\n\u001b[0;32m    179\u001b[0m     \u001b[39mraise\u001b[39;00m ConnectTimeoutError(\n\u001b[0;32m    180\u001b[0m         \u001b[39mself\u001b[39m,\n\u001b[0;32m    181\u001b[0m         \u001b[39m\"\u001b[39m\u001b[39mConnection to \u001b[39m\u001b[39m%s\u001b[39;00m\u001b[39m timed out. (connect timeout=\u001b[39m\u001b[39m%s\u001b[39;00m\u001b[39m)\u001b[39m\u001b[39m\"\u001b[39m\n\u001b[0;32m    182\u001b[0m         \u001b[39m%\u001b[39m (\u001b[39mself\u001b[39m\u001b[39m.\u001b[39mhost, \u001b[39mself\u001b[39m\u001b[39m.\u001b[39mtimeout),\n\u001b[0;32m    183\u001b[0m     )\n",
      "File \u001b[1;32md:\\APPs\\Anaconda\\envs\\Pytorch_env\\lib\\site-packages\\urllib3\\util\\connection.py:85\u001b[0m, in \u001b[0;36mcreate_connection\u001b[1;34m(address, timeout, source_address, socket_options)\u001b[0m\n\u001b[0;32m     83\u001b[0m     \u001b[39mif\u001b[39;00m source_address:\n\u001b[0;32m     84\u001b[0m         sock\u001b[39m.\u001b[39mbind(source_address)\n\u001b[1;32m---> 85\u001b[0m     sock\u001b[39m.\u001b[39;49mconnect(sa)\n\u001b[0;32m     86\u001b[0m     \u001b[39mreturn\u001b[39;00m sock\n\u001b[0;32m     88\u001b[0m \u001b[39mexcept\u001b[39;00m socket\u001b[39m.\u001b[39merror \u001b[39mas\u001b[39;00m e:\n",
      "\u001b[1;31mKeyboardInterrupt\u001b[0m: "
     ]
    }
   ],
   "source": [
    "for url in urls:\n",
    "    url_cur = url_original + url+'/products.json'\n",
    "    try:\n",
    "        fashionnova_item = Get_products(url_cur)\n",
    "        products = fashionnova_item.get_urls(page)\n",
    "    except Exception as e:\n",
    "        print(url)"
   ]
  },
  {
   "cell_type": "code",
   "execution_count": 276,
   "metadata": {},
   "outputs": [
    {
     "data": {
      "text/plain": [
       "['/collections/best-selling-jean',\n",
       " '/collections/10',\n",
       " '/collections/10-dresses-1',\n",
       " '/collections/10-nova-essentials',\n",
       " '/collections/plus-10-nova-essentials',\n",
       " '/collections/10-summer-deals',\n",
       " '/collections/11-plus-almost-gone',\n",
       " '/collections/11-womens-almost-gone',\n",
       " '/collections/kids-almost-gone-12',\n",
       " '/collections/mens-almost-gone-11']"
      ]
     },
     "execution_count": 276,
     "metadata": {},
     "output_type": "execute_result"
    }
   ],
   "source": [
    "urls[:10]"
   ]
  },
  {
   "cell_type": "code",
   "execution_count": 274,
   "metadata": {},
   "outputs": [
    {
     "name": "stdout",
     "output_type": "stream",
     "text": [
      "/collections/best-selling-jean\n",
      "/collections/10\n",
      "/collections/10-dresses-1\n",
      "/collections/10-nova-essentials\n",
      "/collections/plus-10-nova-essentials\n",
      "/collections/10-summer-deals\n",
      "/collections/11-plus-almost-gone\n",
      "/collections/11-womens-almost-gone\n",
      "/collections/kids-almost-gone-12\n"
     ]
    },
    {
     "ename": "KeyboardInterrupt",
     "evalue": "",
     "output_type": "error",
     "traceback": [
      "\u001b[1;31m---------------------------------------------------------------------------\u001b[0m",
      "\u001b[1;31mKeyboardInterrupt\u001b[0m                         Traceback (most recent call last)",
      "\u001b[1;32mc:\\Users\\Administrator\\Desktop\\fashionnova\\code\\scratchData\\data.ipynb Cell 27\u001b[0m in \u001b[0;36m<cell line: 3>\u001b[1;34m()\u001b[0m\n\u001b[0;32m      <a href='vscode-notebook-cell:/c%3A/Users/Administrator/Desktop/fashionnova/code/scratchData/data.ipynb#Y151sZmlsZQ%3D%3D?line=4'>5</a>\u001b[0m \u001b[39mtry\u001b[39;00m:\n\u001b[0;32m      <a href='vscode-notebook-cell:/c%3A/Users/Administrator/Desktop/fashionnova/code/scratchData/data.ipynb#Y151sZmlsZQ%3D%3D?line=5'>6</a>\u001b[0m     fashionnova_item \u001b[39m=\u001b[39m Get_products(url_cur)\n\u001b[1;32m----> <a href='vscode-notebook-cell:/c%3A/Users/Administrator/Desktop/fashionnova/code/scratchData/data.ipynb#Y151sZmlsZQ%3D%3D?line=6'>7</a>\u001b[0m     products \u001b[39m=\u001b[39m fashionnova_item\u001b[39m.\u001b[39;49mget_urls(page)\n\u001b[0;32m      <a href='vscode-notebook-cell:/c%3A/Users/Administrator/Desktop/fashionnova/code/scratchData/data.ipynb#Y151sZmlsZQ%3D%3D?line=7'>8</a>\u001b[0m \u001b[39mexcept\u001b[39;00m \u001b[39mException\u001b[39;00m \u001b[39mas\u001b[39;00m e:\n\u001b[0;32m      <a href='vscode-notebook-cell:/c%3A/Users/Administrator/Desktop/fashionnova/code/scratchData/data.ipynb#Y151sZmlsZQ%3D%3D?line=8'>9</a>\u001b[0m     \u001b[39mprint\u001b[39m(url)\n",
      "\u001b[1;32mc:\\Users\\Administrator\\Desktop\\fashionnova\\code\\scratchData\\data.ipynb Cell 27\u001b[0m in \u001b[0;36mGet_products.get_urls\u001b[1;34m(self, page)\u001b[0m\n\u001b[0;32m      <a href='vscode-notebook-cell:/c%3A/Users/Administrator/Desktop/fashionnova/code/scratchData/data.ipynb#Y151sZmlsZQ%3D%3D?line=6'>7</a>\u001b[0m \u001b[39mdef\u001b[39;00m \u001b[39mget_urls\u001b[39m(\u001b[39mself\u001b[39m, page):\n\u001b[0;32m      <a href='vscode-notebook-cell:/c%3A/Users/Administrator/Desktop/fashionnova/code/scratchData/data.ipynb#Y151sZmlsZQ%3D%3D?line=7'>8</a>\u001b[0m     params \u001b[39m=\u001b[39m {\n\u001b[0;32m      <a href='vscode-notebook-cell:/c%3A/Users/Administrator/Desktop/fashionnova/code/scratchData/data.ipynb#Y151sZmlsZQ%3D%3D?line=8'>9</a>\u001b[0m         \u001b[39m'\u001b[39m\u001b[39mpage\u001b[39m\u001b[39m'\u001b[39m:page,\n\u001b[0;32m     <a href='vscode-notebook-cell:/c%3A/Users/Administrator/Desktop/fashionnova/code/scratchData/data.ipynb#Y151sZmlsZQ%3D%3D?line=9'>10</a>\u001b[0m     }\n\u001b[1;32m---> <a href='vscode-notebook-cell:/c%3A/Users/Administrator/Desktop/fashionnova/code/scratchData/data.ipynb#Y151sZmlsZQ%3D%3D?line=10'>11</a>\u001b[0m     res \u001b[39m=\u001b[39m requests\u001b[39m.\u001b[39;49mget(\u001b[39mself\u001b[39;49m\u001b[39m.\u001b[39;49murl, headers \u001b[39m=\u001b[39;49m \u001b[39mself\u001b[39;49m\u001b[39m.\u001b[39;49mheaders, params\u001b[39m=\u001b[39;49mparams)\n\u001b[0;32m     <a href='vscode-notebook-cell:/c%3A/Users/Administrator/Desktop/fashionnova/code/scratchData/data.ipynb#Y151sZmlsZQ%3D%3D?line=11'>12</a>\u001b[0m     res\u001b[39m.\u001b[39mencoding \u001b[39m=\u001b[39m \u001b[39m'\u001b[39m\u001b[39mutf-8\u001b[39m\u001b[39m'\u001b[39m\n\u001b[0;32m     <a href='vscode-notebook-cell:/c%3A/Users/Administrator/Desktop/fashionnova/code/scratchData/data.ipynb#Y151sZmlsZQ%3D%3D?line=12'>13</a>\u001b[0m     products \u001b[39m=\u001b[39m res\u001b[39m.\u001b[39mjson()[\u001b[39m\"\u001b[39m\u001b[39mproducts\u001b[39m\u001b[39m\"\u001b[39m]\n",
      "File \u001b[1;32md:\\APPs\\Anaconda\\envs\\Pytorch_env\\lib\\site-packages\\requests\\api.py:75\u001b[0m, in \u001b[0;36mget\u001b[1;34m(url, params, **kwargs)\u001b[0m\n\u001b[0;32m     64\u001b[0m \u001b[39mdef\u001b[39;00m \u001b[39mget\u001b[39m(url, params\u001b[39m=\u001b[39m\u001b[39mNone\u001b[39;00m, \u001b[39m*\u001b[39m\u001b[39m*\u001b[39mkwargs):\n\u001b[0;32m     65\u001b[0m     \u001b[39mr\u001b[39m\u001b[39m\"\"\"Sends a GET request.\u001b[39;00m\n\u001b[0;32m     66\u001b[0m \n\u001b[0;32m     67\u001b[0m \u001b[39m    :param url: URL for the new :class:`Request` object.\u001b[39;00m\n\u001b[1;32m   (...)\u001b[0m\n\u001b[0;32m     72\u001b[0m \u001b[39m    :rtype: requests.Response\u001b[39;00m\n\u001b[0;32m     73\u001b[0m \u001b[39m    \"\"\"\u001b[39;00m\n\u001b[1;32m---> 75\u001b[0m     \u001b[39mreturn\u001b[39;00m request(\u001b[39m'\u001b[39;49m\u001b[39mget\u001b[39;49m\u001b[39m'\u001b[39;49m, url, params\u001b[39m=\u001b[39;49mparams, \u001b[39m*\u001b[39;49m\u001b[39m*\u001b[39;49mkwargs)\n",
      "File \u001b[1;32md:\\APPs\\Anaconda\\envs\\Pytorch_env\\lib\\site-packages\\requests\\api.py:61\u001b[0m, in \u001b[0;36mrequest\u001b[1;34m(method, url, **kwargs)\u001b[0m\n\u001b[0;32m     57\u001b[0m \u001b[39m# By using the 'with' statement we are sure the session is closed, thus we\u001b[39;00m\n\u001b[0;32m     58\u001b[0m \u001b[39m# avoid leaving sockets open which can trigger a ResourceWarning in some\u001b[39;00m\n\u001b[0;32m     59\u001b[0m \u001b[39m# cases, and look like a memory leak in others.\u001b[39;00m\n\u001b[0;32m     60\u001b[0m \u001b[39mwith\u001b[39;00m sessions\u001b[39m.\u001b[39mSession() \u001b[39mas\u001b[39;00m session:\n\u001b[1;32m---> 61\u001b[0m     \u001b[39mreturn\u001b[39;00m session\u001b[39m.\u001b[39;49mrequest(method\u001b[39m=\u001b[39;49mmethod, url\u001b[39m=\u001b[39;49murl, \u001b[39m*\u001b[39;49m\u001b[39m*\u001b[39;49mkwargs)\n",
      "File \u001b[1;32md:\\APPs\\Anaconda\\envs\\Pytorch_env\\lib\\site-packages\\requests\\sessions.py:529\u001b[0m, in \u001b[0;36mSession.request\u001b[1;34m(self, method, url, params, data, headers, cookies, files, auth, timeout, allow_redirects, proxies, hooks, stream, verify, cert, json)\u001b[0m\n\u001b[0;32m    524\u001b[0m send_kwargs \u001b[39m=\u001b[39m {\n\u001b[0;32m    525\u001b[0m     \u001b[39m'\u001b[39m\u001b[39mtimeout\u001b[39m\u001b[39m'\u001b[39m: timeout,\n\u001b[0;32m    526\u001b[0m     \u001b[39m'\u001b[39m\u001b[39mallow_redirects\u001b[39m\u001b[39m'\u001b[39m: allow_redirects,\n\u001b[0;32m    527\u001b[0m }\n\u001b[0;32m    528\u001b[0m send_kwargs\u001b[39m.\u001b[39mupdate(settings)\n\u001b[1;32m--> 529\u001b[0m resp \u001b[39m=\u001b[39m \u001b[39mself\u001b[39;49m\u001b[39m.\u001b[39;49msend(prep, \u001b[39m*\u001b[39;49m\u001b[39m*\u001b[39;49msend_kwargs)\n\u001b[0;32m    531\u001b[0m \u001b[39mreturn\u001b[39;00m resp\n",
      "File \u001b[1;32md:\\APPs\\Anaconda\\envs\\Pytorch_env\\lib\\site-packages\\requests\\sessions.py:645\u001b[0m, in \u001b[0;36mSession.send\u001b[1;34m(self, request, **kwargs)\u001b[0m\n\u001b[0;32m    642\u001b[0m start \u001b[39m=\u001b[39m preferred_clock()\n\u001b[0;32m    644\u001b[0m \u001b[39m# Send the request\u001b[39;00m\n\u001b[1;32m--> 645\u001b[0m r \u001b[39m=\u001b[39m adapter\u001b[39m.\u001b[39;49msend(request, \u001b[39m*\u001b[39;49m\u001b[39m*\u001b[39;49mkwargs)\n\u001b[0;32m    647\u001b[0m \u001b[39m# Total elapsed time of the request (approximately)\u001b[39;00m\n\u001b[0;32m    648\u001b[0m elapsed \u001b[39m=\u001b[39m preferred_clock() \u001b[39m-\u001b[39m start\n",
      "File \u001b[1;32md:\\APPs\\Anaconda\\envs\\Pytorch_env\\lib\\site-packages\\requests\\adapters.py:440\u001b[0m, in \u001b[0;36mHTTPAdapter.send\u001b[1;34m(self, request, stream, timeout, verify, cert, proxies)\u001b[0m\n\u001b[0;32m    438\u001b[0m \u001b[39mtry\u001b[39;00m:\n\u001b[0;32m    439\u001b[0m     \u001b[39mif\u001b[39;00m \u001b[39mnot\u001b[39;00m chunked:\n\u001b[1;32m--> 440\u001b[0m         resp \u001b[39m=\u001b[39m conn\u001b[39m.\u001b[39;49murlopen(\n\u001b[0;32m    441\u001b[0m             method\u001b[39m=\u001b[39;49mrequest\u001b[39m.\u001b[39;49mmethod,\n\u001b[0;32m    442\u001b[0m             url\u001b[39m=\u001b[39;49murl,\n\u001b[0;32m    443\u001b[0m             body\u001b[39m=\u001b[39;49mrequest\u001b[39m.\u001b[39;49mbody,\n\u001b[0;32m    444\u001b[0m             headers\u001b[39m=\u001b[39;49mrequest\u001b[39m.\u001b[39;49mheaders,\n\u001b[0;32m    445\u001b[0m             redirect\u001b[39m=\u001b[39;49m\u001b[39mFalse\u001b[39;49;00m,\n\u001b[0;32m    446\u001b[0m             assert_same_host\u001b[39m=\u001b[39;49m\u001b[39mFalse\u001b[39;49;00m,\n\u001b[0;32m    447\u001b[0m             preload_content\u001b[39m=\u001b[39;49m\u001b[39mFalse\u001b[39;49;00m,\n\u001b[0;32m    448\u001b[0m             decode_content\u001b[39m=\u001b[39;49m\u001b[39mFalse\u001b[39;49;00m,\n\u001b[0;32m    449\u001b[0m             retries\u001b[39m=\u001b[39;49m\u001b[39mself\u001b[39;49m\u001b[39m.\u001b[39;49mmax_retries,\n\u001b[0;32m    450\u001b[0m             timeout\u001b[39m=\u001b[39;49mtimeout\n\u001b[0;32m    451\u001b[0m         )\n\u001b[0;32m    453\u001b[0m     \u001b[39m# Send the request.\u001b[39;00m\n\u001b[0;32m    454\u001b[0m     \u001b[39melse\u001b[39;00m:\n\u001b[0;32m    455\u001b[0m         \u001b[39mif\u001b[39;00m \u001b[39mhasattr\u001b[39m(conn, \u001b[39m'\u001b[39m\u001b[39mproxy_pool\u001b[39m\u001b[39m'\u001b[39m):\n",
      "File \u001b[1;32md:\\APPs\\Anaconda\\envs\\Pytorch_env\\lib\\site-packages\\urllib3\\connectionpool.py:703\u001b[0m, in \u001b[0;36mHTTPConnectionPool.urlopen\u001b[1;34m(self, method, url, body, headers, retries, redirect, assert_same_host, timeout, pool_timeout, release_conn, chunked, body_pos, **response_kw)\u001b[0m\n\u001b[0;32m    700\u001b[0m     \u001b[39mself\u001b[39m\u001b[39m.\u001b[39m_prepare_proxy(conn)\n\u001b[0;32m    702\u001b[0m \u001b[39m# Make the request on the httplib connection object.\u001b[39;00m\n\u001b[1;32m--> 703\u001b[0m httplib_response \u001b[39m=\u001b[39m \u001b[39mself\u001b[39;49m\u001b[39m.\u001b[39;49m_make_request(\n\u001b[0;32m    704\u001b[0m     conn,\n\u001b[0;32m    705\u001b[0m     method,\n\u001b[0;32m    706\u001b[0m     url,\n\u001b[0;32m    707\u001b[0m     timeout\u001b[39m=\u001b[39;49mtimeout_obj,\n\u001b[0;32m    708\u001b[0m     body\u001b[39m=\u001b[39;49mbody,\n\u001b[0;32m    709\u001b[0m     headers\u001b[39m=\u001b[39;49mheaders,\n\u001b[0;32m    710\u001b[0m     chunked\u001b[39m=\u001b[39;49mchunked,\n\u001b[0;32m    711\u001b[0m )\n\u001b[0;32m    713\u001b[0m \u001b[39m# If we're going to release the connection in ``finally:``, then\u001b[39;00m\n\u001b[0;32m    714\u001b[0m \u001b[39m# the response doesn't need to know about the connection. Otherwise\u001b[39;00m\n\u001b[0;32m    715\u001b[0m \u001b[39m# it will also try to release it and we'll have a double-release\u001b[39;00m\n\u001b[0;32m    716\u001b[0m \u001b[39m# mess.\u001b[39;00m\n\u001b[0;32m    717\u001b[0m response_conn \u001b[39m=\u001b[39m conn \u001b[39mif\u001b[39;00m \u001b[39mnot\u001b[39;00m release_conn \u001b[39melse\u001b[39;00m \u001b[39mNone\u001b[39;00m\n",
      "File \u001b[1;32md:\\APPs\\Anaconda\\envs\\Pytorch_env\\lib\\site-packages\\urllib3\\connectionpool.py:449\u001b[0m, in \u001b[0;36mHTTPConnectionPool._make_request\u001b[1;34m(self, conn, method, url, timeout, chunked, **httplib_request_kw)\u001b[0m\n\u001b[0;32m    444\u001b[0m             httplib_response \u001b[39m=\u001b[39m conn\u001b[39m.\u001b[39mgetresponse()\n\u001b[0;32m    445\u001b[0m         \u001b[39mexcept\u001b[39;00m \u001b[39mBaseException\u001b[39;00m \u001b[39mas\u001b[39;00m e:\n\u001b[0;32m    446\u001b[0m             \u001b[39m# Remove the TypeError from the exception chain in\u001b[39;00m\n\u001b[0;32m    447\u001b[0m             \u001b[39m# Python 3 (including for exceptions like SystemExit).\u001b[39;00m\n\u001b[0;32m    448\u001b[0m             \u001b[39m# Otherwise it looks like a bug in the code.\u001b[39;00m\n\u001b[1;32m--> 449\u001b[0m             six\u001b[39m.\u001b[39;49mraise_from(e, \u001b[39mNone\u001b[39;49;00m)\n\u001b[0;32m    450\u001b[0m \u001b[39mexcept\u001b[39;00m (SocketTimeout, BaseSSLError, SocketError) \u001b[39mas\u001b[39;00m e:\n\u001b[0;32m    451\u001b[0m     \u001b[39mself\u001b[39m\u001b[39m.\u001b[39m_raise_timeout(err\u001b[39m=\u001b[39me, url\u001b[39m=\u001b[39murl, timeout_value\u001b[39m=\u001b[39mread_timeout)\n",
      "File \u001b[1;32m<string>:3\u001b[0m, in \u001b[0;36mraise_from\u001b[1;34m(value, from_value)\u001b[0m\n",
      "File \u001b[1;32md:\\APPs\\Anaconda\\envs\\Pytorch_env\\lib\\site-packages\\urllib3\\connectionpool.py:444\u001b[0m, in \u001b[0;36mHTTPConnectionPool._make_request\u001b[1;34m(self, conn, method, url, timeout, chunked, **httplib_request_kw)\u001b[0m\n\u001b[0;32m    441\u001b[0m \u001b[39mexcept\u001b[39;00m \u001b[39mTypeError\u001b[39;00m:\n\u001b[0;32m    442\u001b[0m     \u001b[39m# Python 3\u001b[39;00m\n\u001b[0;32m    443\u001b[0m     \u001b[39mtry\u001b[39;00m:\n\u001b[1;32m--> 444\u001b[0m         httplib_response \u001b[39m=\u001b[39m conn\u001b[39m.\u001b[39;49mgetresponse()\n\u001b[0;32m    445\u001b[0m     \u001b[39mexcept\u001b[39;00m \u001b[39mBaseException\u001b[39;00m \u001b[39mas\u001b[39;00m e:\n\u001b[0;32m    446\u001b[0m         \u001b[39m# Remove the TypeError from the exception chain in\u001b[39;00m\n\u001b[0;32m    447\u001b[0m         \u001b[39m# Python 3 (including for exceptions like SystemExit).\u001b[39;00m\n\u001b[0;32m    448\u001b[0m         \u001b[39m# Otherwise it looks like a bug in the code.\u001b[39;00m\n\u001b[0;32m    449\u001b[0m         six\u001b[39m.\u001b[39mraise_from(e, \u001b[39mNone\u001b[39;00m)\n",
      "File \u001b[1;32md:\\APPs\\Anaconda\\envs\\Pytorch_env\\lib\\http\\client.py:1348\u001b[0m, in \u001b[0;36mHTTPConnection.getresponse\u001b[1;34m(self)\u001b[0m\n\u001b[0;32m   1346\u001b[0m \u001b[39mtry\u001b[39;00m:\n\u001b[0;32m   1347\u001b[0m     \u001b[39mtry\u001b[39;00m:\n\u001b[1;32m-> 1348\u001b[0m         response\u001b[39m.\u001b[39;49mbegin()\n\u001b[0;32m   1349\u001b[0m     \u001b[39mexcept\u001b[39;00m \u001b[39mConnectionError\u001b[39;00m:\n\u001b[0;32m   1350\u001b[0m         \u001b[39mself\u001b[39m\u001b[39m.\u001b[39mclose()\n",
      "File \u001b[1;32md:\\APPs\\Anaconda\\envs\\Pytorch_env\\lib\\http\\client.py:316\u001b[0m, in \u001b[0;36mHTTPResponse.begin\u001b[1;34m(self)\u001b[0m\n\u001b[0;32m    314\u001b[0m \u001b[39m# read until we get a non-100 response\u001b[39;00m\n\u001b[0;32m    315\u001b[0m \u001b[39mwhile\u001b[39;00m \u001b[39mTrue\u001b[39;00m:\n\u001b[1;32m--> 316\u001b[0m     version, status, reason \u001b[39m=\u001b[39m \u001b[39mself\u001b[39;49m\u001b[39m.\u001b[39;49m_read_status()\n\u001b[0;32m    317\u001b[0m     \u001b[39mif\u001b[39;00m status \u001b[39m!=\u001b[39m CONTINUE:\n\u001b[0;32m    318\u001b[0m         \u001b[39mbreak\u001b[39;00m\n",
      "File \u001b[1;32md:\\APPs\\Anaconda\\envs\\Pytorch_env\\lib\\http\\client.py:277\u001b[0m, in \u001b[0;36mHTTPResponse._read_status\u001b[1;34m(self)\u001b[0m\n\u001b[0;32m    276\u001b[0m \u001b[39mdef\u001b[39;00m \u001b[39m_read_status\u001b[39m(\u001b[39mself\u001b[39m):\n\u001b[1;32m--> 277\u001b[0m     line \u001b[39m=\u001b[39m \u001b[39mstr\u001b[39m(\u001b[39mself\u001b[39;49m\u001b[39m.\u001b[39;49mfp\u001b[39m.\u001b[39;49mreadline(_MAXLINE \u001b[39m+\u001b[39;49m \u001b[39m1\u001b[39;49m), \u001b[39m\"\u001b[39m\u001b[39miso-8859-1\u001b[39m\u001b[39m\"\u001b[39m)\n\u001b[0;32m    278\u001b[0m     \u001b[39mif\u001b[39;00m \u001b[39mlen\u001b[39m(line) \u001b[39m>\u001b[39m _MAXLINE:\n\u001b[0;32m    279\u001b[0m         \u001b[39mraise\u001b[39;00m LineTooLong(\u001b[39m\"\u001b[39m\u001b[39mstatus line\u001b[39m\u001b[39m\"\u001b[39m)\n",
      "File \u001b[1;32md:\\APPs\\Anaconda\\envs\\Pytorch_env\\lib\\socket.py:669\u001b[0m, in \u001b[0;36mSocketIO.readinto\u001b[1;34m(self, b)\u001b[0m\n\u001b[0;32m    667\u001b[0m \u001b[39mwhile\u001b[39;00m \u001b[39mTrue\u001b[39;00m:\n\u001b[0;32m    668\u001b[0m     \u001b[39mtry\u001b[39;00m:\n\u001b[1;32m--> 669\u001b[0m         \u001b[39mreturn\u001b[39;00m \u001b[39mself\u001b[39;49m\u001b[39m.\u001b[39;49m_sock\u001b[39m.\u001b[39;49mrecv_into(b)\n\u001b[0;32m    670\u001b[0m     \u001b[39mexcept\u001b[39;00m timeout:\n\u001b[0;32m    671\u001b[0m         \u001b[39mself\u001b[39m\u001b[39m.\u001b[39m_timeout_occurred \u001b[39m=\u001b[39m \u001b[39mTrue\u001b[39;00m\n",
      "File \u001b[1;32md:\\APPs\\Anaconda\\envs\\Pytorch_env\\lib\\ssl.py:1241\u001b[0m, in \u001b[0;36mSSLSocket.recv_into\u001b[1;34m(self, buffer, nbytes, flags)\u001b[0m\n\u001b[0;32m   1237\u001b[0m     \u001b[39mif\u001b[39;00m flags \u001b[39m!=\u001b[39m \u001b[39m0\u001b[39m:\n\u001b[0;32m   1238\u001b[0m         \u001b[39mraise\u001b[39;00m \u001b[39mValueError\u001b[39;00m(\n\u001b[0;32m   1239\u001b[0m           \u001b[39m\"\u001b[39m\u001b[39mnon-zero flags not allowed in calls to recv_into() on \u001b[39m\u001b[39m%s\u001b[39;00m\u001b[39m\"\u001b[39m \u001b[39m%\u001b[39m\n\u001b[0;32m   1240\u001b[0m           \u001b[39mself\u001b[39m\u001b[39m.\u001b[39m\u001b[39m__class__\u001b[39m)\n\u001b[1;32m-> 1241\u001b[0m     \u001b[39mreturn\u001b[39;00m \u001b[39mself\u001b[39;49m\u001b[39m.\u001b[39;49mread(nbytes, buffer)\n\u001b[0;32m   1242\u001b[0m \u001b[39melse\u001b[39;00m:\n\u001b[0;32m   1243\u001b[0m     \u001b[39mreturn\u001b[39;00m \u001b[39msuper\u001b[39m()\u001b[39m.\u001b[39mrecv_into(buffer, nbytes, flags)\n",
      "File \u001b[1;32md:\\APPs\\Anaconda\\envs\\Pytorch_env\\lib\\ssl.py:1099\u001b[0m, in \u001b[0;36mSSLSocket.read\u001b[1;34m(self, len, buffer)\u001b[0m\n\u001b[0;32m   1097\u001b[0m \u001b[39mtry\u001b[39;00m:\n\u001b[0;32m   1098\u001b[0m     \u001b[39mif\u001b[39;00m buffer \u001b[39mis\u001b[39;00m \u001b[39mnot\u001b[39;00m \u001b[39mNone\u001b[39;00m:\n\u001b[1;32m-> 1099\u001b[0m         \u001b[39mreturn\u001b[39;00m \u001b[39mself\u001b[39;49m\u001b[39m.\u001b[39;49m_sslobj\u001b[39m.\u001b[39;49mread(\u001b[39mlen\u001b[39;49m, buffer)\n\u001b[0;32m   1100\u001b[0m     \u001b[39melse\u001b[39;00m:\n\u001b[0;32m   1101\u001b[0m         \u001b[39mreturn\u001b[39;00m \u001b[39mself\u001b[39m\u001b[39m.\u001b[39m_sslobj\u001b[39m.\u001b[39mread(\u001b[39mlen\u001b[39m)\n",
      "\u001b[1;31mKeyboardInterrupt\u001b[0m: "
     ]
    }
   ],
   "source": [
    "# 看看哪些url 无法访问\n",
    "\n",
    "for url in urls:\n",
    "    url_cur = url_original + url+'/products.json'\n",
    "    try:\n",
    "        fashionnova_item = Get_products(url_cur)\n",
    "        products = fashionnova_item.get_urls(page)\n",
    "    except Exception as e:\n",
    "        print(url)"
   ]
  },
  {
   "cell_type": "code",
   "execution_count": 200,
   "metadata": {},
   "outputs": [],
   "source": [
    "data = pd.read_csv('../../data/fashionnova_item.csv')"
   ]
  },
  {
   "cell_type": "code",
   "execution_count": 201,
   "metadata": {},
   "outputs": [
    {
     "name": "stdout",
     "output_type": "stream",
     "text": [
      "The total number in the dataset is: 194935\n"
     ]
    }
   ],
   "source": [
    "print('The total number in the dataset is:', len(data))"
   ]
  },
  {
   "cell_type": "markdown",
   "metadata": {},
   "source": [
    "/collections/biker-shorts\n",
    "/collections/active-bikershorts\n",
    "/collections/birthday-dresses\n",
    "/collections/birthday-tops\n",
    "/collections/black-bottoms\n",
    "/collections/black-collection\n",
    "/collections/little-black-dress\n",
    "/collections/black-history-month\n",
    "/collections/black-jackets\n",
    "/collections/black-jeans\n",
    "/collections/black-jumpsuits\n",
    "/collections/black-jumpsuits-rompers\n",
    "/collections/black-lingerie\n",
    "/collections/black-rompers"
   ]
  },
  {
   "cell_type": "code",
   "execution_count": 279,
   "metadata": {},
   "outputs": [],
   "source": [
    "fashionnova_item = Get_products('https://www.fashionnova.com/collections/black-history-month/products.json')\n",
    "# print(fashionnova_item)\n",
    "\n",
    "\n",
    "page = 1\n",
    "# res = requests.get(url=url_cur, headers= headers)\n",
    "products = fashionnova_item.get_urls(page)"
   ]
  },
  {
   "cell_type": "code",
   "execution_count": 282,
   "metadata": {},
   "outputs": [
    {
     "ename": "AttributeError",
     "evalue": "'list' object has no attribute 'json'",
     "output_type": "error",
     "traceback": [
      "\u001b[1;31m---------------------------------------------------------------------------\u001b[0m",
      "\u001b[1;31mAttributeError\u001b[0m                            Traceback (most recent call last)",
      "\u001b[1;32mc:\\Users\\Administrator\\Desktop\\fashionnova\\code\\scratchData\\data.ipynb Cell 33\u001b[0m in \u001b[0;36m<cell line: 1>\u001b[1;34m()\u001b[0m\n\u001b[1;32m----> <a href='vscode-notebook-cell:/c%3A/Users/Administrator/Desktop/fashionnova/code/scratchData/data.ipynb#Y162sZmlsZQ%3D%3D?line=0'>1</a>\u001b[0m products\u001b[39m.\u001b[39;49mjson[\u001b[39m'\u001b[39m\u001b[39mproduct\u001b[39m\u001b[39m'\u001b[39m]\n",
      "\u001b[1;31mAttributeError\u001b[0m: 'list' object has no attribute 'json'"
     ]
    }
   ],
   "source": [
    "products"
   ]
  },
  {
   "cell_type": "code",
   "execution_count": 281,
   "metadata": {},
   "outputs": [
    {
     "data": {
      "text/html": [
       "<div>\n",
       "<style scoped>\n",
       "    .dataframe tbody tr th:only-of-type {\n",
       "        vertical-align: middle;\n",
       "    }\n",
       "\n",
       "    .dataframe tbody tr th {\n",
       "        vertical-align: top;\n",
       "    }\n",
       "\n",
       "    .dataframe thead th {\n",
       "        text-align: right;\n",
       "    }\n",
       "</style>\n",
       "<table border=\"1\" class=\"dataframe\">\n",
       "  <thead>\n",
       "    <tr style=\"text-align: right;\">\n",
       "      <th></th>\n",
       "      <th>shop_idx</th>\n",
       "      <th>url</th>\n",
       "      <th>title</th>\n",
       "      <th>body_html</th>\n",
       "      <th>img</th>\n",
       "      <th>publish_date</th>\n",
       "      <th>updated_date</th>\n",
       "      <th>vendor</th>\n",
       "      <th>product_type</th>\n",
       "      <th>tags</th>\n",
       "    </tr>\n",
       "  </thead>\n",
       "  <tbody>\n",
       "  </tbody>\n",
       "</table>\n",
       "</div>"
      ],
      "text/plain": [
       "Empty DataFrame\n",
       "Columns: [shop_idx, url, title, body_html, img, publish_date, updated_date, vendor, product_type, tags]\n",
       "Index: []"
      ]
     },
     "execution_count": 281,
     "metadata": {},
     "output_type": "execute_result"
    }
   ],
   "source": [
    "data[data.url == 'https://www.fashionnova.com/collections/black-history-month/products.json']\n"
   ]
  },
  {
   "cell_type": "code",
   "execution_count": 209,
   "metadata": {},
   "outputs": [
    {
     "name": "stdout",
     "output_type": "stream",
     "text": [
      "<class 'pandas.core.frame.DataFrame'>\n",
      "RangeIndex: 194935 entries, 0 to 194934\n",
      "Data columns (total 10 columns):\n",
      " #   Column        Non-Null Count   Dtype \n",
      "---  ------        --------------   ----- \n",
      " 0   shop_idx      194935 non-null  int64 \n",
      " 1   url           194935 non-null  object\n",
      " 2   title         194935 non-null  object\n",
      " 3   body_html     194875 non-null  object\n",
      " 4   img           194935 non-null  object\n",
      " 5   publish_date  194935 non-null  object\n",
      " 6   updated_date  194935 non-null  object\n",
      " 7   vendor        194935 non-null  object\n",
      " 8   product_type  194935 non-null  object\n",
      " 9   tags          194935 non-null  object\n",
      "dtypes: int64(1), object(9)\n",
      "memory usage: 14.9+ MB\n",
      "None\n"
     ]
    }
   ],
   "source": [
    "print(data.info())"
   ]
  },
  {
   "cell_type": "code",
   "execution_count": 217,
   "metadata": {},
   "outputs": [
    {
     "name": "stdout",
     "output_type": "stream",
     "text": [
      "The total number in the dataset is: 194935\n",
      "The info in the dataset is: \n",
      "\n",
      "<class 'pandas.core.frame.DataFrame'>\n",
      "RangeIndex: 194935 entries, 0 to 194934\n",
      "Data columns (total 10 columns):\n",
      " #   Column        Non-Null Count   Dtype \n",
      "---  ------        --------------   ----- \n",
      " 0   shop_idx      194935 non-null  int64 \n",
      " 1   url           194935 non-null  object\n",
      " 2   title         194935 non-null  object\n",
      " 3   body_html     194875 non-null  object\n",
      " 4   img           194935 non-null  object\n",
      " 5   publish_date  194935 non-null  object\n",
      " 6   updated_date  194935 non-null  object\n",
      " 7   vendor        194935 non-null  object\n",
      " 8   product_type  194935 non-null  object\n",
      " 9   tags          194935 non-null  object\n",
      "dtypes: int64(1), object(9)\n",
      "memory usage: 14.9+ MB\n",
      "The number shop_idx in the dataset is: 1818\n"
     ]
    }
   ],
   "source": [
    "def data_info(data):\n",
    "    print('The total number in the dataset is:', len(data))\n",
    "    print('The info in the dataset is: \\n')\n",
    "    data.info()\n",
    "    print('The number shop_idx in the dataset is:', len(data.shop_idx.unique()))\n",
    "    # print('The missing value in the dataset is:\\n', data.isnull().sum(axis = 0))\n",
    "\n",
    "\n",
    "data_info(data=data)"
   ]
  },
  {
   "cell_type": "code",
   "execution_count": 266,
   "metadata": {},
   "outputs": [
    {
     "data": {
      "text/plain": [
       "96"
      ]
     },
     "execution_count": 266,
     "metadata": {},
     "output_type": "execute_result"
    }
   ],
   "source": [
    "len(data[data.url == 'https://www.fashionnova.com/collections/yoga/products.json'].title.unique())"
   ]
  },
  {
   "cell_type": "code",
   "execution_count": 268,
   "metadata": {},
   "outputs": [
    {
     "data": {
      "text/plain": [
       "4084"
      ]
     },
     "execution_count": 268,
     "metadata": {},
     "output_type": "execute_result"
    }
   ],
   "source": [
    "len(data[data.product_type == 'Jeans'].title.unique())"
   ]
  },
  {
   "cell_type": "code",
   "execution_count": 229,
   "metadata": {},
   "outputs": [
    {
     "data": {
      "text/plain": [
       "21324"
      ]
     },
     "execution_count": 229,
     "metadata": {},
     "output_type": "execute_result"
    }
   ],
   "source": [
    "data.title.tolist().index('Eris Yoga Mat - Black')"
   ]
  },
  {
   "cell_type": "code",
   "execution_count": 232,
   "metadata": {},
   "outputs": [
    {
     "data": {
      "text/plain": [
       "'https://www.fashionnova.com/collections/active-accessories/products.json'"
      ]
     },
     "execution_count": 232,
     "metadata": {},
     "output_type": "execute_result"
    }
   ],
   "source": [
    "data.iloc[21324].url"
   ]
  },
  {
   "cell_type": "code",
   "execution_count": 234,
   "metadata": {},
   "outputs": [
    {
     "data": {
      "text/plain": [
       "'https://www.fashionnova.com/collections/yoga/products.json'"
      ]
     },
     "execution_count": 234,
     "metadata": {},
     "output_type": "execute_result"
    }
   ],
   "source": [
    "data.iloc[-1].url"
   ]
  },
  {
   "cell_type": "code",
   "execution_count": 220,
   "metadata": {},
   "outputs": [
    {
     "data": {
      "text/plain": [
       "<bound method IndexOpsMixin.value_counts of 0              Classic High Waist Skinny Jeans - Dark Denim\n",
       "1                                      Canopy Jeans - Black\n",
       "2         Classic High Waist Skinny Jeans - Light Blue Wash\n",
       "3                   Super High Waist Denim Skinnies - White\n",
       "4                                Canopy Jeans - Medium Wash\n",
       "                                ...                        \n",
       "194930    Go For It Super Soft Active Long Sleeve Crop T...\n",
       "194931                 Run The Track Biker Short Set - Grey\n",
       "194932                 Run The Track Biker Short Set - Blue\n",
       "194933             Sublime Cepheid Bra Top - Brazilian Sand\n",
       "194934                                Eris Yoga Mat - Black\n",
       "Name: title, Length: 194935, dtype: object>"
      ]
     },
     "execution_count": 220,
     "metadata": {},
     "output_type": "execute_result"
    }
   ],
   "source": [
    "data.title.value_counts"
   ]
  },
  {
   "cell_type": "code",
   "execution_count": 221,
   "metadata": {},
   "outputs": [
    {
     "data": {
      "text/plain": [
       "pandas.core.series.Series"
      ]
     },
     "execution_count": 221,
     "metadata": {},
     "output_type": "execute_result"
    }
   ],
   "source": [
    "type(data.title.to_string())"
   ]
  },
  {
   "cell_type": "code",
   "execution_count": 225,
   "metadata": {},
   "outputs": [
    {
     "data": {
      "text/plain": [
       "True"
      ]
     },
     "execution_count": 225,
     "metadata": {},
     "output_type": "execute_result"
    }
   ],
   "source": [
    "'Run The Track Biker Short Set - Blue' in data.title.unique()"
   ]
  },
  {
   "cell_type": "code",
   "execution_count": 237,
   "metadata": {},
   "outputs": [
    {
     "data": {
      "text/plain": [
       "42243"
      ]
     },
     "execution_count": 237,
     "metadata": {},
     "output_type": "execute_result"
    }
   ],
   "source": [
    "len(set(data.body_html.unique()))"
   ]
  },
  {
   "cell_type": "code",
   "execution_count": 251,
   "metadata": {},
   "outputs": [
    {
     "data": {
      "text/html": [
       "<div>\n",
       "<style scoped>\n",
       "    .dataframe tbody tr th:only-of-type {\n",
       "        vertical-align: middle;\n",
       "    }\n",
       "\n",
       "    .dataframe tbody tr th {\n",
       "        vertical-align: top;\n",
       "    }\n",
       "\n",
       "    .dataframe thead th {\n",
       "        text-align: right;\n",
       "    }\n",
       "</style>\n",
       "<table border=\"1\" class=\"dataframe\">\n",
       "  <thead>\n",
       "    <tr style=\"text-align: right;\">\n",
       "      <th></th>\n",
       "      <th>shop_idx</th>\n",
       "      <th>url</th>\n",
       "      <th>title</th>\n",
       "      <th>body_html</th>\n",
       "      <th>img</th>\n",
       "      <th>publish_date</th>\n",
       "      <th>updated_date</th>\n",
       "      <th>vendor</th>\n",
       "      <th>product_type</th>\n",
       "      <th>tags</th>\n",
       "    </tr>\n",
       "  </thead>\n",
       "  <tbody>\n",
       "    <tr>\n",
       "      <th>78837</th>\n",
       "      <td>925</td>\n",
       "      <td>https://www.fashionnova.com/collections/mens-a...</td>\n",
       "      <td>Asher Hoodie - Mauve</td>\n",
       "      <td>&lt;ul&gt;\\n&lt;li&gt;Available In Stone, Sage, Mauve, Bla...</td>\n",
       "      <td>[{'id': 3611220312188, 'created_at': '2020-10-...</td>\n",
       "      <td>2020-03-03T11:18:53-08:00</td>\n",
       "      <td>2022-10-23T19:27:48-07:00</td>\n",
       "      <td>Fashion Nova</td>\n",
       "      <td>Mens Fleece Tops</td>\n",
       "      <td>['color:Mauve', 'ColorFam-Pink', 'detail:Hoodi...</td>\n",
       "    </tr>\n",
       "    <tr>\n",
       "      <th>78838</th>\n",
       "      <td>925</td>\n",
       "      <td>https://www.fashionnova.com/collections/mens-a...</td>\n",
       "      <td>Asher Active Shorts - Mauve</td>\n",
       "      <td>&lt;ul&gt;\\n&lt;li&gt;Available In Black, Blue, Mauve, Sag...</td>\n",
       "      <td>[{'id': 27940779622524, 'created_at': '2022-04...</td>\n",
       "      <td>2020-05-12T17:26:39-07:00</td>\n",
       "      <td>2022-10-23T18:29:28-07:00</td>\n",
       "      <td>Fashion Nova</td>\n",
       "      <td>Mens Shorts</td>\n",
       "      <td>['color:Mauve', 'ColorFam-Pink', 'final sale',...</td>\n",
       "    </tr>\n",
       "    <tr>\n",
       "      <th>78839</th>\n",
       "      <td>925</td>\n",
       "      <td>https://www.fashionnova.com/collections/mens-a...</td>\n",
       "      <td>Post Cargo Track Pants - Stone/White</td>\n",
       "      <td>&lt;ul&gt;\\n&lt;li&gt;Available In Black/White, Red/White,...</td>\n",
       "      <td>[{'id': 27929516900476, 'created_at': '2021-04...</td>\n",
       "      <td>2020-01-24T16:21:54-08:00</td>\n",
       "      <td>2022-10-24T02:36:10-07:00</td>\n",
       "      <td>Fashion Nova</td>\n",
       "      <td>Mens Pants</td>\n",
       "      <td>['All Promo', 'color:Stone/Combo', 'ColorFam-B...</td>\n",
       "    </tr>\n",
       "    <tr>\n",
       "      <th>78840</th>\n",
       "      <td>925</td>\n",
       "      <td>https://www.fashionnova.com/collections/mens-a...</td>\n",
       "      <td>Luxury Jogger - Black</td>\n",
       "      <td>&lt;ul&gt;\\n&lt;li&gt;Available In Black, White, Yellow, A...</td>\n",
       "      <td>[{'id': 27930191102076, 'created_at': '2021-05...</td>\n",
       "      <td>2020-02-17T15:17:08-08:00</td>\n",
       "      <td>2022-10-23T15:27:40-07:00</td>\n",
       "      <td>Fashion Nova</td>\n",
       "      <td>Mens Pants</td>\n",
       "      <td>['All Promo', 'color:Black', 'ColorFam-Black',...</td>\n",
       "    </tr>\n",
       "    <tr>\n",
       "      <th>78841</th>\n",
       "      <td>925</td>\n",
       "      <td>https://www.fashionnova.com/collections/mens-a...</td>\n",
       "      <td>Tyson Everyday Sweat Jogger - Mauve</td>\n",
       "      <td>&lt;ul&gt;\\n&lt;li&gt;Available In Black, Heather Grey, Ma...</td>\n",
       "      <td>[{'id': 27940601856124, 'created_at': '2022-04...</td>\n",
       "      <td>2021-05-13T17:04:13-07:00</td>\n",
       "      <td>2022-10-23T18:19:46-07:00</td>\n",
       "      <td>Fashion Nova</td>\n",
       "      <td>Mens Pants</td>\n",
       "      <td>['color:Mauve', 'ColorFam-Pink', 'influencersm...</td>\n",
       "    </tr>\n",
       "    <tr>\n",
       "      <th>...</th>\n",
       "      <td>...</td>\n",
       "      <td>...</td>\n",
       "      <td>...</td>\n",
       "      <td>...</td>\n",
       "      <td>...</td>\n",
       "      <td>...</td>\n",
       "      <td>...</td>\n",
       "      <td>...</td>\n",
       "      <td>...</td>\n",
       "      <td>...</td>\n",
       "    </tr>\n",
       "    <tr>\n",
       "      <th>79102</th>\n",
       "      <td>926</td>\n",
       "      <td>https://www.fashionnova.com/collections/mens-a...</td>\n",
       "      <td>Dripping Skull Hoodie - White</td>\n",
       "      <td>&lt;ul&gt;\\n&lt;li&gt;Available In White.&lt;/li&gt;\\n&lt;li&gt;Hood W...</td>\n",
       "      <td>[{'id': 27945022390396, 'created_at': '2022-09...</td>\n",
       "      <td>2022-09-30T15:24:37-07:00</td>\n",
       "      <td>2022-10-24T03:42:16-07:00</td>\n",
       "      <td>Fashion Nova</td>\n",
       "      <td>Mens Fleece Tops</td>\n",
       "      <td>['All Promo', 'color:White', 'ColorFam-White',...</td>\n",
       "    </tr>\n",
       "    <tr>\n",
       "      <th>79103</th>\n",
       "      <td>926</td>\n",
       "      <td>https://www.fashionnova.com/collections/mens-a...</td>\n",
       "      <td>Chained Up Skull Hoodie - Black</td>\n",
       "      <td>&lt;ul&gt;\\n&lt;li&gt;Available In Black.&lt;/li&gt;\\n&lt;li&gt;Hood W...</td>\n",
       "      <td>[{'id': 27945043329148, 'created_at': '2022-09...</td>\n",
       "      <td>2022-09-30T15:24:53-07:00</td>\n",
       "      <td>2022-10-23T02:39:18-07:00</td>\n",
       "      <td>Fashion Nova</td>\n",
       "      <td>Mens Fleece Tops</td>\n",
       "      <td>['All Promo', 'detail:Hoodie', 'detail:Pullove...</td>\n",
       "    </tr>\n",
       "    <tr>\n",
       "      <th>79104</th>\n",
       "      <td>926</td>\n",
       "      <td>https://www.fashionnova.com/collections/mens-a...</td>\n",
       "      <td>Patched All Over Hoodie - Black</td>\n",
       "      <td>&lt;ul&gt;\\n&lt;li&gt;Available In Black.&lt;/li&gt;\\n&lt;li&gt;Hood W...</td>\n",
       "      <td>[{'id': 27945022062716, 'created_at': '2022-09...</td>\n",
       "      <td>2022-09-30T15:24:38-07:00</td>\n",
       "      <td>2022-10-24T04:07:03-07:00</td>\n",
       "      <td>Fashion Nova</td>\n",
       "      <td>Mens Fleece Tops</td>\n",
       "      <td>['All Promo', 'detail:Hoodie', 'detail:Pullove...</td>\n",
       "    </tr>\n",
       "    <tr>\n",
       "      <th>79105</th>\n",
       "      <td>926</td>\n",
       "      <td>https://www.fashionnova.com/collections/mens-a...</td>\n",
       "      <td>Painted Samurai Hoodie - Black</td>\n",
       "      <td>&lt;ul&gt;\\n&lt;li&gt;Available In Black.&lt;/li&gt;\\n&lt;li&gt;Hood W...</td>\n",
       "      <td>[{'id': 27944945451132, 'created_at': '2022-09...</td>\n",
       "      <td>2022-09-29T10:21:26-07:00</td>\n",
       "      <td>2022-10-24T04:59:01-07:00</td>\n",
       "      <td>Fashion Nova</td>\n",
       "      <td>Mens Fleece Tops</td>\n",
       "      <td>['All Promo', 'color:Black', 'ColorFam-Black',...</td>\n",
       "    </tr>\n",
       "    <tr>\n",
       "      <th>79106</th>\n",
       "      <td>926</td>\n",
       "      <td>https://www.fashionnova.com/collections/mens-a...</td>\n",
       "      <td>Burning Skulls Hoodie - Orange</td>\n",
       "      <td>&lt;ul&gt;\\n&lt;li&gt;Available In Orange.&lt;/li&gt;\\n&lt;li&gt;Hood ...</td>\n",
       "      <td>[{'id': 27944965079164, 'created_at': '2022-09...</td>\n",
       "      <td>2022-09-23T15:34:07-07:00</td>\n",
       "      <td>2022-10-24T04:51:58-07:00</td>\n",
       "      <td>Fashion Nova</td>\n",
       "      <td>Mens Fleece Tops</td>\n",
       "      <td>['All Promo', 'color:Orange', 'ColorFam-Orange...</td>\n",
       "    </tr>\n",
       "  </tbody>\n",
       "</table>\n",
       "<p>270 rows × 10 columns</p>\n",
       "</div>"
      ],
      "text/plain": [
       "       shop_idx                                                url  \\\n",
       "78837       925  https://www.fashionnova.com/collections/mens-a...   \n",
       "78838       925  https://www.fashionnova.com/collections/mens-a...   \n",
       "78839       925  https://www.fashionnova.com/collections/mens-a...   \n",
       "78840       925  https://www.fashionnova.com/collections/mens-a...   \n",
       "78841       925  https://www.fashionnova.com/collections/mens-a...   \n",
       "...         ...                                                ...   \n",
       "79102       926  https://www.fashionnova.com/collections/mens-a...   \n",
       "79103       926  https://www.fashionnova.com/collections/mens-a...   \n",
       "79104       926  https://www.fashionnova.com/collections/mens-a...   \n",
       "79105       926  https://www.fashionnova.com/collections/mens-a...   \n",
       "79106       926  https://www.fashionnova.com/collections/mens-a...   \n",
       "\n",
       "                                      title  \\\n",
       "78837                  Asher Hoodie - Mauve   \n",
       "78838           Asher Active Shorts - Mauve   \n",
       "78839  Post Cargo Track Pants - Stone/White   \n",
       "78840                 Luxury Jogger - Black   \n",
       "78841   Tyson Everyday Sweat Jogger - Mauve   \n",
       "...                                     ...   \n",
       "79102         Dripping Skull Hoodie - White   \n",
       "79103       Chained Up Skull Hoodie - Black   \n",
       "79104       Patched All Over Hoodie - Black   \n",
       "79105        Painted Samurai Hoodie - Black   \n",
       "79106        Burning Skulls Hoodie - Orange   \n",
       "\n",
       "                                               body_html  \\\n",
       "78837  <ul>\\n<li>Available In Stone, Sage, Mauve, Bla...   \n",
       "78838  <ul>\\n<li>Available In Black, Blue, Mauve, Sag...   \n",
       "78839  <ul>\\n<li>Available In Black/White, Red/White,...   \n",
       "78840  <ul>\\n<li>Available In Black, White, Yellow, A...   \n",
       "78841  <ul>\\n<li>Available In Black, Heather Grey, Ma...   \n",
       "...                                                  ...   \n",
       "79102  <ul>\\n<li>Available In White.</li>\\n<li>Hood W...   \n",
       "79103  <ul>\\n<li>Available In Black.</li>\\n<li>Hood W...   \n",
       "79104  <ul>\\n<li>Available In Black.</li>\\n<li>Hood W...   \n",
       "79105  <ul>\\n<li>Available In Black.</li>\\n<li>Hood W...   \n",
       "79106  <ul>\\n<li>Available In Orange.</li>\\n<li>Hood ...   \n",
       "\n",
       "                                                     img  \\\n",
       "78837  [{'id': 3611220312188, 'created_at': '2020-10-...   \n",
       "78838  [{'id': 27940779622524, 'created_at': '2022-04...   \n",
       "78839  [{'id': 27929516900476, 'created_at': '2021-04...   \n",
       "78840  [{'id': 27930191102076, 'created_at': '2021-05...   \n",
       "78841  [{'id': 27940601856124, 'created_at': '2022-04...   \n",
       "...                                                  ...   \n",
       "79102  [{'id': 27945022390396, 'created_at': '2022-09...   \n",
       "79103  [{'id': 27945043329148, 'created_at': '2022-09...   \n",
       "79104  [{'id': 27945022062716, 'created_at': '2022-09...   \n",
       "79105  [{'id': 27944945451132, 'created_at': '2022-09...   \n",
       "79106  [{'id': 27944965079164, 'created_at': '2022-09...   \n",
       "\n",
       "                    publish_date               updated_date        vendor  \\\n",
       "78837  2020-03-03T11:18:53-08:00  2022-10-23T19:27:48-07:00  Fashion Nova   \n",
       "78838  2020-05-12T17:26:39-07:00  2022-10-23T18:29:28-07:00  Fashion Nova   \n",
       "78839  2020-01-24T16:21:54-08:00  2022-10-24T02:36:10-07:00  Fashion Nova   \n",
       "78840  2020-02-17T15:17:08-08:00  2022-10-23T15:27:40-07:00  Fashion Nova   \n",
       "78841  2021-05-13T17:04:13-07:00  2022-10-23T18:19:46-07:00  Fashion Nova   \n",
       "...                          ...                        ...           ...   \n",
       "79102  2022-09-30T15:24:37-07:00  2022-10-24T03:42:16-07:00  Fashion Nova   \n",
       "79103  2022-09-30T15:24:53-07:00  2022-10-23T02:39:18-07:00  Fashion Nova   \n",
       "79104  2022-09-30T15:24:38-07:00  2022-10-24T04:07:03-07:00  Fashion Nova   \n",
       "79105  2022-09-29T10:21:26-07:00  2022-10-24T04:59:01-07:00  Fashion Nova   \n",
       "79106  2022-09-23T15:34:07-07:00  2022-10-24T04:51:58-07:00  Fashion Nova   \n",
       "\n",
       "           product_type                                               tags  \n",
       "78837  Mens Fleece Tops  ['color:Mauve', 'ColorFam-Pink', 'detail:Hoodi...  \n",
       "78838       Mens Shorts  ['color:Mauve', 'ColorFam-Pink', 'final sale',...  \n",
       "78839        Mens Pants  ['All Promo', 'color:Stone/Combo', 'ColorFam-B...  \n",
       "78840        Mens Pants  ['All Promo', 'color:Black', 'ColorFam-Black',...  \n",
       "78841        Mens Pants  ['color:Mauve', 'ColorFam-Pink', 'influencersm...  \n",
       "...                 ...                                                ...  \n",
       "79102  Mens Fleece Tops  ['All Promo', 'color:White', 'ColorFam-White',...  \n",
       "79103  Mens Fleece Tops  ['All Promo', 'detail:Hoodie', 'detail:Pullove...  \n",
       "79104  Mens Fleece Tops  ['All Promo', 'detail:Hoodie', 'detail:Pullove...  \n",
       "79105  Mens Fleece Tops  ['All Promo', 'color:Black', 'ColorFam-Black',...  \n",
       "79106  Mens Fleece Tops  ['All Promo', 'color:Orange', 'ColorFam-Orange...  \n",
       "\n",
       "[270 rows x 10 columns]"
      ]
     },
     "execution_count": 251,
     "metadata": {},
     "output_type": "execute_result"
    }
   ],
   "source": [
    "data[data.url == 'https://www.fashionnova.com/collections/mens-activewear/products.json']"
   ]
  },
  {
   "cell_type": "code",
   "execution_count": 263,
   "metadata": {},
   "outputs": [
    {
     "data": {
      "text/plain": [
       "'https://www.fashionnova.com/collections/15-sale/products.json'"
      ]
     },
     "execution_count": 263,
     "metadata": {},
     "output_type": "execute_result"
    }
   ],
   "source": [
    "data[data.product_type == 'Jeans'].url.unique()[3]"
   ]
  },
  {
   "cell_type": "code",
   "execution_count": 255,
   "metadata": {},
   "outputs": [
    {
     "data": {
      "text/plain": [
       "4084"
      ]
     },
     "execution_count": 255,
     "metadata": {},
     "output_type": "execute_result"
    }
   ],
   "source": [
    "len(data[data.product_type == 'Jeans'].title.unique())"
   ]
  },
  {
   "cell_type": "code",
   "execution_count": 248,
   "metadata": {},
   "outputs": [
    {
     "data": {
      "text/html": [
       "<div>\n",
       "<style scoped>\n",
       "    .dataframe tbody tr th:only-of-type {\n",
       "        vertical-align: middle;\n",
       "    }\n",
       "\n",
       "    .dataframe tbody tr th {\n",
       "        vertical-align: top;\n",
       "    }\n",
       "\n",
       "    .dataframe thead th {\n",
       "        text-align: right;\n",
       "    }\n",
       "</style>\n",
       "<table border=\"1\" class=\"dataframe\">\n",
       "  <thead>\n",
       "    <tr style=\"text-align: right;\">\n",
       "      <th></th>\n",
       "      <th>shop_idx</th>\n",
       "      <th>url</th>\n",
       "      <th>title</th>\n",
       "      <th>body_html</th>\n",
       "      <th>img</th>\n",
       "      <th>publish_date</th>\n",
       "      <th>updated_date</th>\n",
       "      <th>vendor</th>\n",
       "      <th>product_type</th>\n",
       "      <th>tags</th>\n",
       "    </tr>\n",
       "  </thead>\n",
       "  <tbody>\n",
       "    <tr>\n",
       "      <th>79060</th>\n",
       "      <td>926</td>\n",
       "      <td>https://www.fashionnova.com/collections/mens-a...</td>\n",
       "      <td>Three Way Nylon Cargo Pants - Black</td>\n",
       "      <td>&lt;ul&gt;\\n&lt;li&gt;Available In Black.&lt;/li&gt;\\n&lt;li&gt;Nylon ...</td>\n",
       "      <td>[{'id': 27943036715132, 'created_at': '2022-07...</td>\n",
       "      <td>2022-09-07T16:59:08-07:00</td>\n",
       "      <td>2022-10-23T07:09:27-07:00</td>\n",
       "      <td>Fashion Nova</td>\n",
       "      <td>Mens Pants</td>\n",
       "      <td>['All Promo', 'atticket', 'chazboost', 'color:...</td>\n",
       "    </tr>\n",
       "    <tr>\n",
       "      <th>79061</th>\n",
       "      <td>926</td>\n",
       "      <td>https://www.fashionnova.com/collections/mens-a...</td>\n",
       "      <td>Tactical Nylon Cargo Pants - Black</td>\n",
       "      <td>&lt;ul&gt;\\n&lt;li&gt;Available In Black.&lt;/li&gt;\\n&lt;li&gt;Nylon ...</td>\n",
       "      <td>[{'id': 27943870267516, 'created_at': '2022-08...</td>\n",
       "      <td>2022-09-07T17:01:07-07:00</td>\n",
       "      <td>2022-10-23T10:48:04-07:00</td>\n",
       "      <td>Fashion Nova</td>\n",
       "      <td>Mens Pants</td>\n",
       "      <td>['All Promo', 'atticket', 'color:Black', 'Colo...</td>\n",
       "    </tr>\n",
       "    <tr>\n",
       "      <th>79062</th>\n",
       "      <td>926</td>\n",
       "      <td>https://www.fashionnova.com/collections/mens-a...</td>\n",
       "      <td>Tactical Nylon Cargo Pants - Orange</td>\n",
       "      <td>&lt;ul&gt;\\n&lt;li&gt;Available In Orange.&lt;/li&gt;\\n&lt;li&gt;Nylon...</td>\n",
       "      <td>[{'id': 27944568848508, 'created_at': '2022-09...</td>\n",
       "      <td>2022-09-07T16:59:08-07:00</td>\n",
       "      <td>2022-10-24T02:52:25-07:00</td>\n",
       "      <td>Fashion Nova</td>\n",
       "      <td>Mens Pants</td>\n",
       "      <td>['All Promo', 'atticket', 'color:Orange', 'Col...</td>\n",
       "    </tr>\n",
       "    <tr>\n",
       "      <th>79063</th>\n",
       "      <td>926</td>\n",
       "      <td>https://www.fashionnova.com/collections/mens-a...</td>\n",
       "      <td>Still Trippen' Short Sleeve Tee - Cream</td>\n",
       "      <td>&lt;ul&gt;\\n&lt;li&gt;Available In Cream.&lt;/li&gt;\\n&lt;li&gt;Hood W...</td>\n",
       "      <td>[{'id': 27944552398972, 'created_at': '2022-09...</td>\n",
       "      <td>2022-09-13T10:06:17-07:00</td>\n",
       "      <td>2022-10-24T03:23:17-07:00</td>\n",
       "      <td>Fashion Nova</td>\n",
       "      <td>Mens Fleece Tops</td>\n",
       "      <td>['All Promo', 'atticket', 'color:Cream', 'Colo...</td>\n",
       "    </tr>\n",
       "    <tr>\n",
       "      <th>79064</th>\n",
       "      <td>926</td>\n",
       "      <td>https://www.fashionnova.com/collections/mens-a...</td>\n",
       "      <td>Velvet Trucker Jacket - Burgundy</td>\n",
       "      <td>&lt;ul&gt;\\n&lt;li&gt;Available In Burgundy.&lt;/li&gt;\\n&lt;li&gt;Fol...</td>\n",
       "      <td>[{'id': 27938140749948, 'created_at': '2022-01...</td>\n",
       "      <td>2022-01-25T14:25:51-08:00</td>\n",
       "      <td>2022-10-23T14:46:20-07:00</td>\n",
       "      <td>Fashion Nova</td>\n",
       "      <td>Mens Jackets</td>\n",
       "      <td>['All Promo', 'atticket', 'color:Burgundy', 'C...</td>\n",
       "    </tr>\n",
       "    <tr>\n",
       "      <th>79065</th>\n",
       "      <td>926</td>\n",
       "      <td>https://www.fashionnova.com/collections/mens-a...</td>\n",
       "      <td>Zip Me Halfway Cargo Pants - Khaki</td>\n",
       "      <td>&lt;ul&gt;\\n&lt;li&gt;Available In Khaki.&lt;/li&gt;\\n&lt;li&gt;Slim F...</td>\n",
       "      <td>[{'id': 27944550858876, 'created_at': '2022-09...</td>\n",
       "      <td>2022-09-02T13:54:26-07:00</td>\n",
       "      <td>2022-10-24T00:24:26-07:00</td>\n",
       "      <td>Fashion Nova</td>\n",
       "      <td>Mens Pants</td>\n",
       "      <td>['All Promo', 'atticket', 'color:Khaki', 'Colo...</td>\n",
       "    </tr>\n",
       "    <tr>\n",
       "      <th>79066</th>\n",
       "      <td>926</td>\n",
       "      <td>https://www.fashionnova.com/collections/mens-a...</td>\n",
       "      <td>Your Go To Fleece Shacket - Olive</td>\n",
       "      <td>&lt;ul&gt;\\n&lt;li&gt;Available In Olive.&lt;/li&gt;\\n&lt;li&gt;Fold D...</td>\n",
       "      <td>[{'id': 27944056258684, 'created_at': '2022-08...</td>\n",
       "      <td>2022-08-26T16:48:15-07:00</td>\n",
       "      <td>2022-10-24T03:57:32-07:00</td>\n",
       "      <td>Fashion Nova</td>\n",
       "      <td>Mens Casual Jackets</td>\n",
       "      <td>['All Promo', 'atticket', 'color:Olive', 'Colo...</td>\n",
       "    </tr>\n",
       "    <tr>\n",
       "      <th>79067</th>\n",
       "      <td>926</td>\n",
       "      <td>https://www.fashionnova.com/collections/mens-a...</td>\n",
       "      <td>Your Go To Fleece Shacket - Cream</td>\n",
       "      <td>&lt;ul&gt;\\n&lt;li&gt;Available In Cream.&lt;/li&gt;\\n&lt;li&gt;Fold D...</td>\n",
       "      <td>[{'id': 27944543944828, 'created_at': '2022-09...</td>\n",
       "      <td>2022-09-13T10:06:31-07:00</td>\n",
       "      <td>2022-10-24T03:32:27-07:00</td>\n",
       "      <td>Fashion Nova</td>\n",
       "      <td>Mens Casual Jackets</td>\n",
       "      <td>['All Promo', 'atticket', 'color:Cream', 'Colo...</td>\n",
       "    </tr>\n",
       "    <tr>\n",
       "      <th>79068</th>\n",
       "      <td>926</td>\n",
       "      <td>https://www.fashionnova.com/collections/mens-a...</td>\n",
       "      <td>Last Shot Hoodie - Black</td>\n",
       "      <td>&lt;ul&gt;\\n&lt;li&gt;Available In Black.&lt;/li&gt;\\n&lt;li&gt;Hood W...</td>\n",
       "      <td>[{'id': 27944539521148, 'created_at': '2022-09...</td>\n",
       "      <td>2022-09-13T10:06:26-07:00</td>\n",
       "      <td>2022-10-23T23:19:52-07:00</td>\n",
       "      <td>Fashion Nova</td>\n",
       "      <td>Mens Fleece Tops</td>\n",
       "      <td>['All Promo', 'atticket', 'color:Black', 'Colo...</td>\n",
       "    </tr>\n",
       "    <tr>\n",
       "      <th>79069</th>\n",
       "      <td>926</td>\n",
       "      <td>https://www.fashionnova.com/collections/mens-a...</td>\n",
       "      <td>College Dropout Hoodie - Red</td>\n",
       "      <td>&lt;ul&gt;\\n&lt;li&gt;Available In Red.&lt;/li&gt;\\n&lt;li&gt;Hood Wit...</td>\n",
       "      <td>[{'id': 27944539750524, 'created_at': '2022-09...</td>\n",
       "      <td>2022-09-13T10:06:26-07:00</td>\n",
       "      <td>2022-10-22T19:18:06-07:00</td>\n",
       "      <td>Fashion Nova</td>\n",
       "      <td>Mens Fleece Tops</td>\n",
       "      <td>['All Promo', 'atticket', 'color:Red', 'ColorF...</td>\n",
       "    </tr>\n",
       "    <tr>\n",
       "      <th>79070</th>\n",
       "      <td>926</td>\n",
       "      <td>https://www.fashionnova.com/collections/mens-a...</td>\n",
       "      <td>Strappy Cargo Pants - Black</td>\n",
       "      <td>&lt;ul&gt;\\n&lt;li&gt;Available In Black.&lt;/li&gt;\\n&lt;li&gt;Straig...</td>\n",
       "      <td>[{'id': 27944551776380, 'created_at': '2022-09...</td>\n",
       "      <td>2022-09-09T11:40:22-07:00</td>\n",
       "      <td>2022-10-24T05:47:12-07:00</td>\n",
       "      <td>Fashion Nova</td>\n",
       "      <td>Mens Pants</td>\n",
       "      <td>['All Promo', 'atticket', 'color:Black', 'Colo...</td>\n",
       "    </tr>\n",
       "    <tr>\n",
       "      <th>79071</th>\n",
       "      <td>926</td>\n",
       "      <td>https://www.fashionnova.com/collections/mens-a...</td>\n",
       "      <td>Come Up Cargo Flared Pants - Grey</td>\n",
       "      <td>&lt;ul&gt;\\n&lt;li&gt;Available In Grey.&lt;/li&gt;\\n&lt;li&gt;Slim Fl...</td>\n",
       "      <td>[{'id': 27944550006908, 'created_at': '2022-09...</td>\n",
       "      <td>2022-09-09T11:40:21-07:00</td>\n",
       "      <td>2022-10-24T06:06:12-07:00</td>\n",
       "      <td>Fashion Nova</td>\n",
       "      <td>Mens Pants</td>\n",
       "      <td>['All Promo', 'atticket', 'color:Grey', 'Color...</td>\n",
       "    </tr>\n",
       "    <tr>\n",
       "      <th>79072</th>\n",
       "      <td>926</td>\n",
       "      <td>https://www.fashionnova.com/collections/mens-a...</td>\n",
       "      <td>Ying Yang Embroidered Hoodie - Sand</td>\n",
       "      <td>&lt;ul&gt;\\n&lt;li&gt;Available In Sand.&lt;/li&gt;\\n&lt;li&gt;Hood Wi...</td>\n",
       "      <td>[{'id': 27944825454716, 'created_at': '2022-09...</td>\n",
       "      <td>2022-09-22T11:01:14-07:00</td>\n",
       "      <td>2022-10-24T03:42:00-07:00</td>\n",
       "      <td>Fashion Nova</td>\n",
       "      <td>Mens Fleece Tops</td>\n",
       "      <td>['All Promo', 'color:Sand', 'ColorFam-Brown', ...</td>\n",
       "    </tr>\n",
       "    <tr>\n",
       "      <th>79073</th>\n",
       "      <td>926</td>\n",
       "      <td>https://www.fashionnova.com/collections/mens-a...</td>\n",
       "      <td>Chilling Skull Embroidered Hoodie - Charcoal</td>\n",
       "      <td>&lt;ul&gt;\\n&lt;li&gt;Available In Charcoal.&lt;/li&gt;\\n&lt;li&gt;Hoo...</td>\n",
       "      <td>[{'id': 27944799764604, 'created_at': '2022-09...</td>\n",
       "      <td>2022-09-22T11:01:13-07:00</td>\n",
       "      <td>2022-10-24T00:28:22-07:00</td>\n",
       "      <td>Fashion Nova</td>\n",
       "      <td>Mens Fleece Tops</td>\n",
       "      <td>['All Promo', 'color:Charcoal', 'ColorFam-Gray...</td>\n",
       "    </tr>\n",
       "    <tr>\n",
       "      <th>79074</th>\n",
       "      <td>926</td>\n",
       "      <td>https://www.fashionnova.com/collections/mens-a...</td>\n",
       "      <td>Flying Crane Embroidered Hoodie - Red</td>\n",
       "      <td>&lt;ul&gt;\\n&lt;li&gt;Available In Red.&lt;/li&gt;\\n&lt;li&gt;Hood Wit...</td>\n",
       "      <td>[{'id': 27945044279420, 'created_at': '2022-09...</td>\n",
       "      <td>2022-09-30T15:24:39-07:00</td>\n",
       "      <td>2022-10-24T02:08:54-07:00</td>\n",
       "      <td>Fashion Nova</td>\n",
       "      <td>Mens Fleece Tops</td>\n",
       "      <td>['All Promo', 'color:Red', 'ColorFam-Red', 'de...</td>\n",
       "    </tr>\n",
       "  </tbody>\n",
       "</table>\n",
       "</div>"
      ],
      "text/plain": [
       "       shop_idx                                                url  \\\n",
       "79060       926  https://www.fashionnova.com/collections/mens-a...   \n",
       "79061       926  https://www.fashionnova.com/collections/mens-a...   \n",
       "79062       926  https://www.fashionnova.com/collections/mens-a...   \n",
       "79063       926  https://www.fashionnova.com/collections/mens-a...   \n",
       "79064       926  https://www.fashionnova.com/collections/mens-a...   \n",
       "79065       926  https://www.fashionnova.com/collections/mens-a...   \n",
       "79066       926  https://www.fashionnova.com/collections/mens-a...   \n",
       "79067       926  https://www.fashionnova.com/collections/mens-a...   \n",
       "79068       926  https://www.fashionnova.com/collections/mens-a...   \n",
       "79069       926  https://www.fashionnova.com/collections/mens-a...   \n",
       "79070       926  https://www.fashionnova.com/collections/mens-a...   \n",
       "79071       926  https://www.fashionnova.com/collections/mens-a...   \n",
       "79072       926  https://www.fashionnova.com/collections/mens-a...   \n",
       "79073       926  https://www.fashionnova.com/collections/mens-a...   \n",
       "79074       926  https://www.fashionnova.com/collections/mens-a...   \n",
       "\n",
       "                                              title  \\\n",
       "79060           Three Way Nylon Cargo Pants - Black   \n",
       "79061            Tactical Nylon Cargo Pants - Black   \n",
       "79062           Tactical Nylon Cargo Pants - Orange   \n",
       "79063       Still Trippen' Short Sleeve Tee - Cream   \n",
       "79064              Velvet Trucker Jacket - Burgundy   \n",
       "79065            Zip Me Halfway Cargo Pants - Khaki   \n",
       "79066             Your Go To Fleece Shacket - Olive   \n",
       "79067             Your Go To Fleece Shacket - Cream   \n",
       "79068                      Last Shot Hoodie - Black   \n",
       "79069                  College Dropout Hoodie - Red   \n",
       "79070                   Strappy Cargo Pants - Black   \n",
       "79071             Come Up Cargo Flared Pants - Grey   \n",
       "79072           Ying Yang Embroidered Hoodie - Sand   \n",
       "79073  Chilling Skull Embroidered Hoodie - Charcoal   \n",
       "79074         Flying Crane Embroidered Hoodie - Red   \n",
       "\n",
       "                                               body_html  \\\n",
       "79060  <ul>\\n<li>Available In Black.</li>\\n<li>Nylon ...   \n",
       "79061  <ul>\\n<li>Available In Black.</li>\\n<li>Nylon ...   \n",
       "79062  <ul>\\n<li>Available In Orange.</li>\\n<li>Nylon...   \n",
       "79063  <ul>\\n<li>Available In Cream.</li>\\n<li>Hood W...   \n",
       "79064  <ul>\\n<li>Available In Burgundy.</li>\\n<li>Fol...   \n",
       "79065  <ul>\\n<li>Available In Khaki.</li>\\n<li>Slim F...   \n",
       "79066  <ul>\\n<li>Available In Olive.</li>\\n<li>Fold D...   \n",
       "79067  <ul>\\n<li>Available In Cream.</li>\\n<li>Fold D...   \n",
       "79068  <ul>\\n<li>Available In Black.</li>\\n<li>Hood W...   \n",
       "79069  <ul>\\n<li>Available In Red.</li>\\n<li>Hood Wit...   \n",
       "79070  <ul>\\n<li>Available In Black.</li>\\n<li>Straig...   \n",
       "79071  <ul>\\n<li>Available In Grey.</li>\\n<li>Slim Fl...   \n",
       "79072  <ul>\\n<li>Available In Sand.</li>\\n<li>Hood Wi...   \n",
       "79073  <ul>\\n<li>Available In Charcoal.</li>\\n<li>Hoo...   \n",
       "79074  <ul>\\n<li>Available In Red.</li>\\n<li>Hood Wit...   \n",
       "\n",
       "                                                     img  \\\n",
       "79060  [{'id': 27943036715132, 'created_at': '2022-07...   \n",
       "79061  [{'id': 27943870267516, 'created_at': '2022-08...   \n",
       "79062  [{'id': 27944568848508, 'created_at': '2022-09...   \n",
       "79063  [{'id': 27944552398972, 'created_at': '2022-09...   \n",
       "79064  [{'id': 27938140749948, 'created_at': '2022-01...   \n",
       "79065  [{'id': 27944550858876, 'created_at': '2022-09...   \n",
       "79066  [{'id': 27944056258684, 'created_at': '2022-08...   \n",
       "79067  [{'id': 27944543944828, 'created_at': '2022-09...   \n",
       "79068  [{'id': 27944539521148, 'created_at': '2022-09...   \n",
       "79069  [{'id': 27944539750524, 'created_at': '2022-09...   \n",
       "79070  [{'id': 27944551776380, 'created_at': '2022-09...   \n",
       "79071  [{'id': 27944550006908, 'created_at': '2022-09...   \n",
       "79072  [{'id': 27944825454716, 'created_at': '2022-09...   \n",
       "79073  [{'id': 27944799764604, 'created_at': '2022-09...   \n",
       "79074  [{'id': 27945044279420, 'created_at': '2022-09...   \n",
       "\n",
       "                    publish_date               updated_date        vendor  \\\n",
       "79060  2022-09-07T16:59:08-07:00  2022-10-23T07:09:27-07:00  Fashion Nova   \n",
       "79061  2022-09-07T17:01:07-07:00  2022-10-23T10:48:04-07:00  Fashion Nova   \n",
       "79062  2022-09-07T16:59:08-07:00  2022-10-24T02:52:25-07:00  Fashion Nova   \n",
       "79063  2022-09-13T10:06:17-07:00  2022-10-24T03:23:17-07:00  Fashion Nova   \n",
       "79064  2022-01-25T14:25:51-08:00  2022-10-23T14:46:20-07:00  Fashion Nova   \n",
       "79065  2022-09-02T13:54:26-07:00  2022-10-24T00:24:26-07:00  Fashion Nova   \n",
       "79066  2022-08-26T16:48:15-07:00  2022-10-24T03:57:32-07:00  Fashion Nova   \n",
       "79067  2022-09-13T10:06:31-07:00  2022-10-24T03:32:27-07:00  Fashion Nova   \n",
       "79068  2022-09-13T10:06:26-07:00  2022-10-23T23:19:52-07:00  Fashion Nova   \n",
       "79069  2022-09-13T10:06:26-07:00  2022-10-22T19:18:06-07:00  Fashion Nova   \n",
       "79070  2022-09-09T11:40:22-07:00  2022-10-24T05:47:12-07:00  Fashion Nova   \n",
       "79071  2022-09-09T11:40:21-07:00  2022-10-24T06:06:12-07:00  Fashion Nova   \n",
       "79072  2022-09-22T11:01:14-07:00  2022-10-24T03:42:00-07:00  Fashion Nova   \n",
       "79073  2022-09-22T11:01:13-07:00  2022-10-24T00:28:22-07:00  Fashion Nova   \n",
       "79074  2022-09-30T15:24:39-07:00  2022-10-24T02:08:54-07:00  Fashion Nova   \n",
       "\n",
       "              product_type                                               tags  \n",
       "79060           Mens Pants  ['All Promo', 'atticket', 'chazboost', 'color:...  \n",
       "79061           Mens Pants  ['All Promo', 'atticket', 'color:Black', 'Colo...  \n",
       "79062           Mens Pants  ['All Promo', 'atticket', 'color:Orange', 'Col...  \n",
       "79063     Mens Fleece Tops  ['All Promo', 'atticket', 'color:Cream', 'Colo...  \n",
       "79064         Mens Jackets  ['All Promo', 'atticket', 'color:Burgundy', 'C...  \n",
       "79065           Mens Pants  ['All Promo', 'atticket', 'color:Khaki', 'Colo...  \n",
       "79066  Mens Casual Jackets  ['All Promo', 'atticket', 'color:Olive', 'Colo...  \n",
       "79067  Mens Casual Jackets  ['All Promo', 'atticket', 'color:Cream', 'Colo...  \n",
       "79068     Mens Fleece Tops  ['All Promo', 'atticket', 'color:Black', 'Colo...  \n",
       "79069     Mens Fleece Tops  ['All Promo', 'atticket', 'color:Red', 'ColorF...  \n",
       "79070           Mens Pants  ['All Promo', 'atticket', 'color:Black', 'Colo...  \n",
       "79071           Mens Pants  ['All Promo', 'atticket', 'color:Grey', 'Color...  \n",
       "79072     Mens Fleece Tops  ['All Promo', 'color:Sand', 'ColorFam-Brown', ...  \n",
       "79073     Mens Fleece Tops  ['All Promo', 'color:Charcoal', 'ColorFam-Gray...  \n",
       "79074     Mens Fleece Tops  ['All Promo', 'color:Red', 'ColorFam-Red', 'de...  "
      ]
     },
     "execution_count": 248,
     "metadata": {},
     "output_type": "execute_result"
    }
   ],
   "source": [
    "data.iloc[79060:79075]"
   ]
  },
  {
   "cell_type": "code",
   "execution_count": 219,
   "metadata": {},
   "outputs": [
    {
     "data": {
      "text/plain": [
       "50458"
      ]
     },
     "execution_count": 219,
     "metadata": {},
     "output_type": "execute_result"
    }
   ],
   "source": [
    "len(set(data.title.unique()))"
   ]
  },
  {
   "cell_type": "code",
   "execution_count": 246,
   "metadata": {},
   "outputs": [
    {
     "data": {
      "text/plain": [
       "'https://www.fashionnova.com/collections/mens-activewear/products.json'"
      ]
     },
     "execution_count": 246,
     "metadata": {},
     "output_type": "execute_result"
    }
   ],
   "source": [
    "data.iloc[79066].url"
   ]
  },
  {
   "cell_type": "code",
   "execution_count": 245,
   "metadata": {},
   "outputs": [
    {
     "data": {
      "text/plain": [
       "79066"
      ]
     },
     "execution_count": 245,
     "metadata": {},
     "output_type": "execute_result"
    }
   ],
   "source": [
    "data.product_type.tolist().index('Mens Casual Jackets')"
   ]
  },
  {
   "cell_type": "code",
   "execution_count": 244,
   "metadata": {},
   "outputs": [
    {
     "data": {
      "text/plain": [
       "Dresses                 34526\n",
       "Jeans                   14207\n",
       "Matching Sets            9559\n",
       "Knit Tops                9318\n",
       "Swimwear                 9294\n",
       "                        ...  \n",
       "Tanning                     4\n",
       "Mens Casual Jackets         4\n",
       "Rompers & Jumpsuits         2\n",
       "Kids                        2\n",
       "Cellular Accessories        1\n",
       "Name: product_type, Length: 118, dtype: int64"
      ]
     },
     "execution_count": 244,
     "metadata": {},
     "output_type": "execute_result"
    }
   ],
   "source": [
    "data['product_type'].value_counts()"
   ]
  },
  {
   "cell_type": "code",
   "execution_count": 241,
   "metadata": {},
   "outputs": [
    {
     "data": {
      "text/html": [
       "<div>\n",
       "<style scoped>\n",
       "    .dataframe tbody tr th:only-of-type {\n",
       "        vertical-align: middle;\n",
       "    }\n",
       "\n",
       "    .dataframe tbody tr th {\n",
       "        vertical-align: top;\n",
       "    }\n",
       "\n",
       "    .dataframe thead tr th {\n",
       "        text-align: left;\n",
       "    }\n",
       "\n",
       "    .dataframe thead tr:last-of-type th {\n",
       "        text-align: right;\n",
       "    }\n",
       "</style>\n",
       "<table border=\"1\" class=\"dataframe\">\n",
       "  <thead>\n",
       "    <tr>\n",
       "      <th></th>\n",
       "      <th colspan=\"8\" halign=\"left\">shop_idx</th>\n",
       "    </tr>\n",
       "    <tr>\n",
       "      <th></th>\n",
       "      <th>count</th>\n",
       "      <th>mean</th>\n",
       "      <th>std</th>\n",
       "      <th>min</th>\n",
       "      <th>25%</th>\n",
       "      <th>50%</th>\n",
       "      <th>75%</th>\n",
       "      <th>max</th>\n",
       "    </tr>\n",
       "    <tr>\n",
       "      <th>product_type</th>\n",
       "      <th></th>\n",
       "      <th></th>\n",
       "      <th></th>\n",
       "      <th></th>\n",
       "      <th></th>\n",
       "      <th></th>\n",
       "      <th></th>\n",
       "      <th></th>\n",
       "    </tr>\n",
       "  </thead>\n",
       "  <tbody>\n",
       "    <tr>\n",
       "      <th>Accessories</th>\n",
       "      <td>1315.0</td>\n",
       "      <td>697.707985</td>\n",
       "      <td>662.611692</td>\n",
       "      <td>3.0</td>\n",
       "      <td>205.00</td>\n",
       "      <td>565.0</td>\n",
       "      <td>626.00</td>\n",
       "      <td>2475.0</td>\n",
       "    </tr>\n",
       "    <tr>\n",
       "      <th>Basic Tops &amp; Bodysuits</th>\n",
       "      <td>8521.0</td>\n",
       "      <td>1389.588663</td>\n",
       "      <td>820.202585</td>\n",
       "      <td>3.0</td>\n",
       "      <td>289.00</td>\n",
       "      <td>1656.0</td>\n",
       "      <td>1980.00</td>\n",
       "      <td>2491.0</td>\n",
       "    </tr>\n",
       "    <tr>\n",
       "      <th>Beauty</th>\n",
       "      <td>439.0</td>\n",
       "      <td>658.906606</td>\n",
       "      <td>622.583480</td>\n",
       "      <td>148.0</td>\n",
       "      <td>214.00</td>\n",
       "      <td>459.0</td>\n",
       "      <td>835.00</td>\n",
       "      <td>2450.0</td>\n",
       "    </tr>\n",
       "    <tr>\n",
       "      <th>Beauty Masks</th>\n",
       "      <td>94.0</td>\n",
       "      <td>668.138298</td>\n",
       "      <td>743.700376</td>\n",
       "      <td>193.0</td>\n",
       "      <td>213.25</td>\n",
       "      <td>218.0</td>\n",
       "      <td>755.00</td>\n",
       "      <td>2437.0</td>\n",
       "    </tr>\n",
       "    <tr>\n",
       "      <th>Blushes</th>\n",
       "      <td>21.0</td>\n",
       "      <td>1595.428571</td>\n",
       "      <td>798.681512</td>\n",
       "      <td>210.0</td>\n",
       "      <td>835.00</td>\n",
       "      <td>2067.0</td>\n",
       "      <td>2428.00</td>\n",
       "      <td>2437.0</td>\n",
       "    </tr>\n",
       "    <tr>\n",
       "      <th>...</th>\n",
       "      <td>...</td>\n",
       "      <td>...</td>\n",
       "      <td>...</td>\n",
       "      <td>...</td>\n",
       "      <td>...</td>\n",
       "      <td>...</td>\n",
       "      <td>...</td>\n",
       "      <td>...</td>\n",
       "    </tr>\n",
       "    <tr>\n",
       "      <th>Swimwear</th>\n",
       "      <td>9294.0</td>\n",
       "      <td>1293.205294</td>\n",
       "      <td>836.006171</td>\n",
       "      <td>3.0</td>\n",
       "      <td>491.00</td>\n",
       "      <td>1630.0</td>\n",
       "      <td>1932.00</td>\n",
       "      <td>2491.0</td>\n",
       "    </tr>\n",
       "    <tr>\n",
       "      <th>Tanning</th>\n",
       "      <td>4.0</td>\n",
       "      <td>778.000000</td>\n",
       "      <td>1101.442388</td>\n",
       "      <td>186.0</td>\n",
       "      <td>206.25</td>\n",
       "      <td>248.5</td>\n",
       "      <td>820.25</td>\n",
       "      <td>2429.0</td>\n",
       "    </tr>\n",
       "    <tr>\n",
       "      <th>Tops</th>\n",
       "      <td>6.0</td>\n",
       "      <td>1326.166667</td>\n",
       "      <td>829.926121</td>\n",
       "      <td>147.0</td>\n",
       "      <td>707.00</td>\n",
       "      <td>1616.5</td>\n",
       "      <td>1921.50</td>\n",
       "      <td>2150.0</td>\n",
       "    </tr>\n",
       "    <tr>\n",
       "      <th>Womens Costumes</th>\n",
       "      <td>598.0</td>\n",
       "      <td>1210.207358</td>\n",
       "      <td>748.860795</td>\n",
       "      <td>3.0</td>\n",
       "      <td>612.00</td>\n",
       "      <td>1134.0</td>\n",
       "      <td>1794.00</td>\n",
       "      <td>2506.0</td>\n",
       "    </tr>\n",
       "    <tr>\n",
       "      <th>Woven Tops</th>\n",
       "      <td>7.0</td>\n",
       "      <td>1128.000000</td>\n",
       "      <td>562.313969</td>\n",
       "      <td>489.0</td>\n",
       "      <td>553.50</td>\n",
       "      <td>1494.0</td>\n",
       "      <td>1575.00</td>\n",
       "      <td>1656.0</td>\n",
       "    </tr>\n",
       "  </tbody>\n",
       "</table>\n",
       "<p>118 rows × 8 columns</p>\n",
       "</div>"
      ],
      "text/plain": [
       "                       shop_idx                                           \\\n",
       "                          count         mean          std    min     25%   \n",
       "product_type                                                               \n",
       "Accessories              1315.0   697.707985   662.611692    3.0  205.00   \n",
       "Basic Tops & Bodysuits   8521.0  1389.588663   820.202585    3.0  289.00   \n",
       "Beauty                    439.0   658.906606   622.583480  148.0  214.00   \n",
       "Beauty Masks               94.0   668.138298   743.700376  193.0  213.25   \n",
       "Blushes                    21.0  1595.428571   798.681512  210.0  835.00   \n",
       "...                         ...          ...          ...    ...     ...   \n",
       "Swimwear                 9294.0  1293.205294   836.006171    3.0  491.00   \n",
       "Tanning                     4.0   778.000000  1101.442388  186.0  206.25   \n",
       "Tops                        6.0  1326.166667   829.926121  147.0  707.00   \n",
       "Womens Costumes           598.0  1210.207358   748.860795    3.0  612.00   \n",
       "Woven Tops                  7.0  1128.000000   562.313969  489.0  553.50   \n",
       "\n",
       "                                                 \n",
       "                           50%      75%     max  \n",
       "product_type                                     \n",
       "Accessories              565.0   626.00  2475.0  \n",
       "Basic Tops & Bodysuits  1656.0  1980.00  2491.0  \n",
       "Beauty                   459.0   835.00  2450.0  \n",
       "Beauty Masks             218.0   755.00  2437.0  \n",
       "Blushes                 2067.0  2428.00  2437.0  \n",
       "...                        ...      ...     ...  \n",
       "Swimwear                1630.0  1932.00  2491.0  \n",
       "Tanning                  248.5   820.25  2429.0  \n",
       "Tops                    1616.5  1921.50  2150.0  \n",
       "Womens Costumes         1134.0  1794.00  2506.0  \n",
       "Woven Tops              1494.0  1575.00  1656.0  \n",
       "\n",
       "[118 rows x 8 columns]"
      ]
     },
     "execution_count": 241,
     "metadata": {},
     "output_type": "execute_result"
    }
   ],
   "source": [
    "data.groupby(['product_type']).describe()"
   ]
  },
  {
   "cell_type": "code",
   "execution_count": 238,
   "metadata": {},
   "outputs": [
    {
     "data": {
      "text/plain": [
       "array(['Jeans', 'Nova Vintage', 'Shorts', 'Nova Sport Bottoms',\n",
       "       'Shirts & Blouses', 'Knit Tops', 'Skirts', 'Nova Sport Tops',\n",
       "       'Celebrity Collection', 'Accessories', 'Bodysuits',\n",
       "       'Lingerie & Sleepwear', 'Screens Tops and Bottoms', 'Shoes',\n",
       "       'Jean Shorts', 'Graphic Tees', 'Basic Tops & Bodysuits',\n",
       "       'Handbags', 'Leggings', 'Matching Sets', 'Pants', 'Dresses',\n",
       "       'Jewelry', 'Rompers', 'Swimwear', 'Sweaters', 'Jumpsuits',\n",
       "       'Sunglasses', 'Screen Tops', 'Seasonal', 'Mens Jeans',\n",
       "       'Womens Costumes', 'Lounge Sets', 'Kids Sets',\n",
       "       'Kids Jumpsuits & Rompers', 'Kids Dresses', 'Kids Shorts & Skirts',\n",
       "       'Kids Jackets & Coats', 'Kids Pants & Jeans',\n",
       "       'Kids Tops & T-Shirts', 'Girls', 'Kids Sweaters & Cardigans',\n",
       "       'Mens Tees & Tanks', 'Mens Denim Shorts', 'Jackets & Coats',\n",
       "       'Nova Sport Accessories', 'Mens Shorts', 'Career/Office', 'Luxe',\n",
       "       'Kids Shoes', 'Kids Leggings', 'Kids Sweatshirts & Hoodies',\n",
       "       'Kids Sleepwear', 'Kids', 'Rompers & Jumpsuits', 'Tops',\n",
       "       'Mens Jackets', 'Mens Pants', 'Mens Jewelry', 'Mens Sunglasses',\n",
       "       'Mens Graphic Tees', 'Beauty', 'Mens Fleece Tops',\n",
       "       'Mens Accessories', 'Facemasks', 'Mens Shirts', 'Mens Costumes',\n",
       "       'Cellular Accessories', 'Mens Fleece Bottoms', 'Mens Swim',\n",
       "       'Mens Underwear', 'Mens Sweaters', 'Bronzers', 'Tanning',\n",
       "       'Beauty Masks', 'Shower & Body', 'Lipstick', 'Lip Pencils',\n",
       "       'Lip Gloss', 'Eyeshadow', 'Eyeliner', 'Makeup Brushes',\n",
       "       'Makeup Sponges', 'Concealer', 'Lashes', 'Mascara', 'Hair Care',\n",
       "       'Press Ons', 'Moisturizers', 'Cleaning Tools', 'Skin Treatments',\n",
       "       'Highlighters', 'Lip Plumper', 'Eyebrows', 'Conditioners',\n",
       "       'Hair Tools', 'Shampoos', 'Blushes', 'Eye Care', 'Hair Extensions',\n",
       "       'Eye Palettes', 'Kids Button Downs', 'Boys', 'Kids Accessories',\n",
       "       'Nova Sport Jumpsuits', 'Cheek', 'Lounge', 'Woven Tops', 'Jackets',\n",
       "       'Nova Sport Sets', 'Kids Costumes', 'Pet Costumes', 'Mens Shoes',\n",
       "       'Kids Swimwear', 'Mens Sleepwear', 'Mens Casual Jackets', 'Scrubs',\n",
       "       'Outerwear'], dtype=object)"
      ]
     },
     "execution_count": 238,
     "metadata": {},
     "output_type": "execute_result"
    }
   ],
   "source": [
    "data[data.product_type == 'Jeans']"
   ]
  },
  {
   "cell_type": "code",
   "execution_count": 182,
   "metadata": {},
   "outputs": [
    {
     "data": {
      "text/html": [
       "<div>\n",
       "<style scoped>\n",
       "    .dataframe tbody tr th:only-of-type {\n",
       "        vertical-align: middle;\n",
       "    }\n",
       "\n",
       "    .dataframe tbody tr th {\n",
       "        vertical-align: top;\n",
       "    }\n",
       "\n",
       "    .dataframe thead th {\n",
       "        text-align: right;\n",
       "    }\n",
       "</style>\n",
       "<table border=\"1\" class=\"dataframe\">\n",
       "  <thead>\n",
       "    <tr style=\"text-align: right;\">\n",
       "      <th></th>\n",
       "      <th>shop_idx</th>\n",
       "      <th>url</th>\n",
       "      <th>title</th>\n",
       "      <th>body_html</th>\n",
       "      <th>img</th>\n",
       "      <th>publish_date</th>\n",
       "      <th>updated_date</th>\n",
       "      <th>vendor</th>\n",
       "      <th>product_type</th>\n",
       "      <th>tags</th>\n",
       "    </tr>\n",
       "  </thead>\n",
       "  <tbody>\n",
       "    <tr>\n",
       "      <th>3493</th>\n",
       "      <td>122</td>\n",
       "      <td>https://www.fashionnova.com/collections/plus-1...</td>\n",
       "      <td>In The Crowd Distressed Mom Shorts - DarkWash</td>\n",
       "      <td>&lt;ul&gt;\\n&lt;li&gt;Available In Medium Blue Wash, Light...</td>\n",
       "      <td>[{'id': 27939919429756, 'created_at': '2022-03...</td>\n",
       "      <td>2022-03-21T13:02:21-07:00</td>\n",
       "      <td>2022-10-23T01:24:35-07:00</td>\n",
       "      <td>Fashion Nova</td>\n",
       "      <td>Jean Shorts</td>\n",
       "      <td>['Booty Shorts', 'Bottoms', 'color:Dark Wash',...</td>\n",
       "    </tr>\n",
       "    <tr>\n",
       "      <th>3494</th>\n",
       "      <td>122</td>\n",
       "      <td>https://www.fashionnova.com/collections/plus-1...</td>\n",
       "      <td>Right On Cue Bodysuit - Brown</td>\n",
       "      <td>&lt;ul&gt;\\n&lt;li&gt;Available In White, Brown, Wine, Bla...</td>\n",
       "      <td>[{'id': 27945342009468, 'created_at': '2022-10...</td>\n",
       "      <td>2022-08-23T13:19:14-07:00</td>\n",
       "      <td>2022-10-23T06:53:51-07:00</td>\n",
       "      <td>Fashion Nova</td>\n",
       "      <td>Basic Tops &amp; Bodysuits</td>\n",
       "      <td>['Basic', 'basicsbodysuits', 'basicshop', 'Bod...</td>\n",
       "    </tr>\n",
       "    <tr>\n",
       "      <th>3495</th>\n",
       "      <td>122</td>\n",
       "      <td>https://www.fashionnova.com/collections/plus-1...</td>\n",
       "      <td>Amerie Turtle Neck Sweater - Wine</td>\n",
       "      <td>&lt;ul&gt;\\n&lt;li&gt;Available In Black, Beige, And Lime&lt;...</td>\n",
       "      <td>[{'id': 27943748960380, 'created_at': '2022-08...</td>\n",
       "      <td>2022-08-17T16:57:20-07:00</td>\n",
       "      <td>2022-10-23T07:25:57-07:00</td>\n",
       "      <td>Fashion Nova</td>\n",
       "      <td>Basic Tops &amp; Bodysuits</td>\n",
       "      <td>['Basic', 'basicsbodysuits', 'basicshop', 'col...</td>\n",
       "    </tr>\n",
       "    <tr>\n",
       "      <th>3496</th>\n",
       "      <td>122</td>\n",
       "      <td>https://www.fashionnova.com/collections/plus-1...</td>\n",
       "      <td>Pamela Turtle Neck Long Sleeve Bodysuit - Red</td>\n",
       "      <td>&lt;ul&gt;\\n&lt;li&gt;Available In Black,Burgundy,Charcoal...</td>\n",
       "      <td>[{'id': 27943583055996, 'created_at': '2022-08...</td>\n",
       "      <td>2022-08-10T17:03:07-07:00</td>\n",
       "      <td>2022-10-23T06:48:09-07:00</td>\n",
       "      <td>Fashion Nova</td>\n",
       "      <td>Basic Tops &amp; Bodysuits</td>\n",
       "      <td>['Basic', 'Bodysuits', 'color:Red', 'ColorFam-...</td>\n",
       "    </tr>\n",
       "    <tr>\n",
       "      <th>3497</th>\n",
       "      <td>122</td>\n",
       "      <td>https://www.fashionnova.com/collections/plus-1...</td>\n",
       "      <td>Forget The Rules Skirtall - Red/combo</td>\n",
       "      <td>&lt;ul&gt;\\n&lt;li&gt;Available In Red/combo And Yellow/co...</td>\n",
       "      <td>[{'id': 27935360450684, 'created_at': '2021-10...</td>\n",
       "      <td>2021-10-15T13:17:33-07:00</td>\n",
       "      <td>2022-10-21T01:48:30-07:00</td>\n",
       "      <td>Fashion Nova</td>\n",
       "      <td>Skirts</td>\n",
       "      <td>['Bottoms', 'color:Red/combo', 'ColorFam-Red',...</td>\n",
       "    </tr>\n",
       "  </tbody>\n",
       "</table>\n",
       "</div>"
      ],
      "text/plain": [
       "      shop_idx                                                url  \\\n",
       "3493       122  https://www.fashionnova.com/collections/plus-1...   \n",
       "3494       122  https://www.fashionnova.com/collections/plus-1...   \n",
       "3495       122  https://www.fashionnova.com/collections/plus-1...   \n",
       "3496       122  https://www.fashionnova.com/collections/plus-1...   \n",
       "3497       122  https://www.fashionnova.com/collections/plus-1...   \n",
       "\n",
       "                                              title  \\\n",
       "3493  In The Crowd Distressed Mom Shorts - DarkWash   \n",
       "3494                  Right On Cue Bodysuit - Brown   \n",
       "3495              Amerie Turtle Neck Sweater - Wine   \n",
       "3496  Pamela Turtle Neck Long Sleeve Bodysuit - Red   \n",
       "3497          Forget The Rules Skirtall - Red/combo   \n",
       "\n",
       "                                              body_html  \\\n",
       "3493  <ul>\\n<li>Available In Medium Blue Wash, Light...   \n",
       "3494  <ul>\\n<li>Available In White, Brown, Wine, Bla...   \n",
       "3495  <ul>\\n<li>Available In Black, Beige, And Lime<...   \n",
       "3496  <ul>\\n<li>Available In Black,Burgundy,Charcoal...   \n",
       "3497  <ul>\\n<li>Available In Red/combo And Yellow/co...   \n",
       "\n",
       "                                                    img  \\\n",
       "3493  [{'id': 27939919429756, 'created_at': '2022-03...   \n",
       "3494  [{'id': 27945342009468, 'created_at': '2022-10...   \n",
       "3495  [{'id': 27943748960380, 'created_at': '2022-08...   \n",
       "3496  [{'id': 27943583055996, 'created_at': '2022-08...   \n",
       "3497  [{'id': 27935360450684, 'created_at': '2021-10...   \n",
       "\n",
       "                   publish_date               updated_date        vendor  \\\n",
       "3493  2022-03-21T13:02:21-07:00  2022-10-23T01:24:35-07:00  Fashion Nova   \n",
       "3494  2022-08-23T13:19:14-07:00  2022-10-23T06:53:51-07:00  Fashion Nova   \n",
       "3495  2022-08-17T16:57:20-07:00  2022-10-23T07:25:57-07:00  Fashion Nova   \n",
       "3496  2022-08-10T17:03:07-07:00  2022-10-23T06:48:09-07:00  Fashion Nova   \n",
       "3497  2021-10-15T13:17:33-07:00  2022-10-21T01:48:30-07:00  Fashion Nova   \n",
       "\n",
       "                product_type  \\\n",
       "3493             Jean Shorts   \n",
       "3494  Basic Tops & Bodysuits   \n",
       "3495  Basic Tops & Bodysuits   \n",
       "3496  Basic Tops & Bodysuits   \n",
       "3497                  Skirts   \n",
       "\n",
       "                                                   tags  \n",
       "3493  ['Booty Shorts', 'Bottoms', 'color:Dark Wash',...  \n",
       "3494  ['Basic', 'basicsbodysuits', 'basicshop', 'Bod...  \n",
       "3495  ['Basic', 'basicsbodysuits', 'basicshop', 'col...  \n",
       "3496  ['Basic', 'Bodysuits', 'color:Red', 'ColorFam-...  \n",
       "3497  ['Bottoms', 'color:Red/combo', 'ColorFam-Red',...  "
      ]
     },
     "execution_count": 182,
     "metadata": {},
     "output_type": "execute_result"
    }
   ],
   "source": [
    "data.tail()"
   ]
  },
  {
   "cell_type": "code",
   "execution_count": 181,
   "metadata": {},
   "outputs": [
    {
     "data": {
      "text/plain": [
       "3498"
      ]
     },
     "execution_count": 181,
     "metadata": {},
     "output_type": "execute_result"
    }
   ],
   "source": [
    "len(data.shop_idx == 0)"
   ]
  },
  {
   "cell_type": "code",
   "execution_count": 166,
   "metadata": {},
   "outputs": [
    {
     "data": {
      "text/plain": [
       "'/collections/best-selling-jean'"
      ]
     },
     "execution_count": 166,
     "metadata": {},
     "output_type": "execute_result"
    }
   ],
   "source": [
    "urls[0]"
   ]
  },
  {
   "cell_type": "code",
   "execution_count": 163,
   "metadata": {},
   "outputs": [
    {
     "name": "stdout",
     "output_type": "stream",
     "text": [
      "File will be closed\n"
     ]
    }
   ],
   "source": [
    "import csv\n",
    "import time\n",
    "import pandas as pd\n",
    "import numpy as np\n",
    "\n",
    "f = open('../../data/fashionnova_item.csv', mode='w', encoding='utf-8',newline = '')\n",
    "writer = csv.writer(f)\n",
    "field_names = ['shop_idx','url','title','body_html','img','publish_date','updated_date','vendor','product_type','tags']\n",
    "writer.writerow(field_names)\n",
    "cnt = 0\n",
    "url_original = 'https://www.fashionnova.com'\n",
    "for url in urls[:5]:\n",
    "    url_cur = url_original + url+'/products.json'\n",
    "    res = requests.get(url=url_cur, headers= headers)\n",
    "    products = res.json()[\"products\"]\n",
    "    for product in products:\n",
    "        index = cnt\n",
    "        title = product[\"title\"]\n",
    "        body_html = product[\"body_html\"]\n",
    "        img = product[\"images\"]\n",
    "        slug = product[\"handle\"]\n",
    "        publish_date = product[\"published_at\"]\n",
    "        updated_date = product[\"updated_at\"]\n",
    "        vendor = product[\"vendor\"]\n",
    "        product_type = product[\"product_type\"]\n",
    "        tags = product[\"tags\"]\n",
    "        details = [index, url_cur, title, body_html,img, publish_date, updated_date, vendor, product_type, tags]\n",
    "        writer.writerow(details)\n",
    "    cnt+=1\n",
    "print('File will be closed')\n",
    "f.close()"
   ]
  },
  {
   "cell_type": "code",
   "execution_count": null,
   "metadata": {},
   "outputs": [],
   "source": []
  },
  {
   "cell_type": "code",
   "execution_count": 157,
   "metadata": {},
   "outputs": [],
   "source": [
    "data = pd.read_csv('../../data/fashionnova_item.csv')"
   ]
  },
  {
   "cell_type": "code",
   "execution_count": 165,
   "metadata": {},
   "outputs": [
    {
     "data": {
      "text/plain": [
       "137"
      ]
     },
     "execution_count": 165,
     "metadata": {},
     "output_type": "execute_result"
    }
   ],
   "source": [
    "len(data)"
   ]
  },
  {
   "cell_type": "code",
   "execution_count": 142,
   "metadata": {},
   "outputs": [
    {
     "data": {
      "text/plain": [
       "'/collections/best-selling-jean'"
      ]
     },
     "execution_count": 142,
     "metadata": {},
     "output_type": "execute_result"
    }
   ],
   "source": [
    "urls[0]"
   ]
  },
  {
   "cell_type": "code",
   "execution_count": null,
   "metadata": {},
   "outputs": [],
   "source": [
    "while url:\n",
    "    urls = fashionnova_page.get_urls(page)\n",
    "    url.extend(urls)\n",
    "    page+=1"
   ]
  },
  {
   "cell_type": "code",
   "execution_count": 125,
   "metadata": {},
   "outputs": [
    {
     "data": {
      "text/plain": [
       "0"
      ]
     },
     "execution_count": 125,
     "metadata": {},
     "output_type": "execute_result"
    }
   ],
   "source": [
    "len(url)"
   ]
  }
 ],
 "metadata": {
  "kernelspec": {
   "display_name": "Python 3.8.13 ('Pytorch_env')",
   "language": "python",
   "name": "python3"
  },
  "language_info": {
   "codemirror_mode": {
    "name": "ipython",
    "version": 3
   },
   "file_extension": ".py",
   "mimetype": "text/x-python",
   "name": "python",
   "nbconvert_exporter": "python",
   "pygments_lexer": "ipython3",
   "version": "3.8.13"
  },
  "orig_nbformat": 4,
  "vscode": {
   "interpreter": {
    "hash": "c9a2e0da5c1a761e164bc35afa337bbeabdbd11f7aa8f9cdef7a3864a30df3cb"
   }
  }
 },
 "nbformat": 4,
 "nbformat_minor": 2
}
